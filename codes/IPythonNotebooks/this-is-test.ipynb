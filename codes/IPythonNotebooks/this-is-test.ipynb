{
 "metadata": {
  "name": ""
 },
 "nbformat": 3,
 "nbformat_minor": 0,
 "worksheets": [
  {
   "cells": [
    {
     "cell_type": "markdown",
     "metadata": {},
     "source": [
      "## Numpy arrays: [view or copy](http://stackoverflow.com/questions/11524664/how-can-i-tell-if-numpy-creates-a-view-or-a-copy)\n",
      "See [here](http://stackoverflow.com/questions/4370745/view-onto-a-numpy-array) too\n",
      "... A copy is made only if needed."
     ]
    },
    {
     "cell_type": "code",
     "collapsed": false,
     "input": [
      "a = np.arange(50)\n",
      "b = a.reshape((5, 10))\n",
      "print (b.base is a)"
     ],
     "language": "python",
     "metadata": {},
     "outputs": [
      {
       "output_type": "stream",
       "stream": "stdout",
       "text": [
        "True\n"
       ]
      }
     ],
     "prompt_number": 68
    },
    {
     "cell_type": "code",
     "collapsed": false,
     "input": [
      "a"
     ],
     "language": "python",
     "metadata": {},
     "outputs": [
      {
       "metadata": {},
       "output_type": "pyout",
       "prompt_number": 69,
       "text": [
        "array([ 0,  1,  2,  3,  4,  5,  6,  7,  8,  9, 10, 11, 12, 13, 14, 15, 16,\n",
        "       17, 18, 19, 20, 21, 22, 23, 24, 25, 26, 27, 28, 29, 30, 31, 32, 33,\n",
        "       34, 35, 36, 37, 38, 39, 40, 41, 42, 43, 44, 45, 46, 47, 48, 49])"
       ]
      }
     ],
     "prompt_number": 69
    },
    {
     "cell_type": "code",
     "collapsed": false,
     "input": [
      "b[4] = 100\n",
      "b"
     ],
     "language": "python",
     "metadata": {},
     "outputs": [
      {
       "metadata": {},
       "output_type": "pyout",
       "prompt_number": 70,
       "text": [
        "array([[  0,   1,   2,   3,   4,   5,   6,   7,   8,   9],\n",
        "       [ 10,  11,  12,  13,  14,  15,  16,  17,  18,  19],\n",
        "       [ 20,  21,  22,  23,  24,  25,  26,  27,  28,  29],\n",
        "       [ 30,  31,  32,  33,  34,  35,  36,  37,  38,  39],\n",
        "       [100, 100, 100, 100, 100, 100, 100, 100, 100, 100]])"
       ]
      }
     ],
     "prompt_number": 70
    },
    {
     "cell_type": "code",
     "collapsed": false,
     "input": [
      "a"
     ],
     "language": "python",
     "metadata": {},
     "outputs": [
      {
       "metadata": {},
       "output_type": "pyout",
       "prompt_number": 71,
       "text": [
        "array([  0,   1,   2,   3,   4,   5,   6,   7,   8,   9,  10,  11,  12,\n",
        "        13,  14,  15,  16,  17,  18,  19,  20,  21,  22,  23,  24,  25,\n",
        "        26,  27,  28,  29,  30,  31,  32,  33,  34,  35,  36,  37,  38,\n",
        "        39, 100, 100, 100, 100, 100, 100, 100, 100, 100, 100])"
       ]
      }
     ],
     "prompt_number": 71
    },
    {
     "cell_type": "code",
     "collapsed": false,
     "input": [
      "print (np.may_share_memory(a, b))"
     ],
     "language": "python",
     "metadata": {},
     "outputs": [
      {
       "output_type": "stream",
       "stream": "stdout",
       "text": [
        "True\n"
       ]
      }
     ],
     "prompt_number": 72
    },
    {
     "cell_type": "code",
     "collapsed": false,
     "input": [
      "x = b.view()"
     ],
     "language": "python",
     "metadata": {},
     "outputs": [],
     "prompt_number": 74
    },
    {
     "cell_type": "code",
     "collapsed": false,
     "input": [
      "print (np.may_share_memory(x, b))"
     ],
     "language": "python",
     "metadata": {},
     "outputs": [
      {
       "output_type": "stream",
       "stream": "stdout",
       "text": [
        "True\n"
       ]
      }
     ],
     "prompt_number": 75
    },
    {
     "cell_type": "code",
     "collapsed": false,
     "input": [
      "x = np.random.random((4, 4))"
     ],
     "language": "python",
     "metadata": {},
     "outputs": [],
     "prompt_number": 76
    },
    {
     "cell_type": "code",
     "collapsed": false,
     "input": [
      "y = x[:] #returns a view unlike list"
     ],
     "language": "python",
     "metadata": {},
     "outputs": [],
     "prompt_number": 79
    },
    {
     "cell_type": "code",
     "collapsed": false,
     "input": [
      "print (np.may_share_memory(x, y))"
     ],
     "language": "python",
     "metadata": {},
     "outputs": [
      {
       "output_type": "stream",
       "stream": "stdout",
       "text": [
        "True\n"
       ]
      }
     ],
     "prompt_number": 80
    },
    {
     "cell_type": "code",
     "collapsed": false,
     "input": [
      "x"
     ],
     "language": "python",
     "metadata": {},
     "outputs": [
      {
       "metadata": {},
       "output_type": "pyout",
       "prompt_number": 81,
       "text": [
        "array([[ 0.4706759 ,  0.68832211,  0.84228234,  0.22409191],\n",
        "       [ 0.62501575,  0.74549943,  0.58765445,  0.27995876],\n",
        "       [ 0.79712639,  0.19839246,  0.10670026,  0.9613757 ],\n",
        "       [ 0.89491916,  0.04719685,  0.85610295,  0.07930439]])"
       ]
      }
     ],
     "prompt_number": 81
    },
    {
     "cell_type": "code",
     "collapsed": false,
     "input": [
      "y"
     ],
     "language": "python",
     "metadata": {},
     "outputs": [
      {
       "metadata": {},
       "output_type": "pyout",
       "prompt_number": 82,
       "text": [
        "array([[ 0.4706759 ,  0.68832211,  0.84228234,  0.22409191],\n",
        "       [ 0.62501575,  0.74549943,  0.58765445,  0.27995876],\n",
        "       [ 0.79712639,  0.19839246,  0.10670026,  0.9613757 ],\n",
        "       [ 0.89491916,  0.04719685,  0.85610295,  0.07930439]])"
       ]
      }
     ],
     "prompt_number": 82
    },
    {
     "cell_type": "code",
     "collapsed": false,
     "input": [
      "y[3] = 234"
     ],
     "language": "python",
     "metadata": {},
     "outputs": [],
     "prompt_number": 83
    },
    {
     "cell_type": "code",
     "collapsed": false,
     "input": [
      "x"
     ],
     "language": "python",
     "metadata": {},
     "outputs": [
      {
       "metadata": {},
       "output_type": "pyout",
       "prompt_number": 84,
       "text": [
        "array([[  4.70675905e-01,   6.88322115e-01,   8.42282338e-01,\n",
        "          2.24091908e-01],\n",
        "       [  6.25015752e-01,   7.45499428e-01,   5.87654449e-01,\n",
        "          2.79958765e-01],\n",
        "       [  7.97126391e-01,   1.98392460e-01,   1.06700262e-01,\n",
        "          9.61375695e-01],\n",
        "       [  2.34000000e+02,   2.34000000e+02,   2.34000000e+02,\n",
        "          2.34000000e+02]])"
       ]
      }
     ],
     "prompt_number": 84
    },
    {
     "cell_type": "markdown",
     "metadata": {},
     "source": [
      "## Cython - complex numbers"
     ]
    },
    {
     "cell_type": "code",
     "collapsed": false,
     "input": [
      "%load_ext cythonmagic"
     ],
     "language": "python",
     "metadata": {},
     "outputs": [
      {
       "output_type": "stream",
       "stream": "stdout",
       "text": [
        "The cythonmagic extension is already loaded. To reload it, use:\n",
        "  %reload_ext cythonmagic\n"
       ]
      }
     ],
     "prompt_number": 10
    },
    {
     "cell_type": "code",
     "collapsed": false,
     "input": [
      "%%cython\n",
      "from __future__ import division\n",
      "import  numpy as np\n",
      "cimport numpy as np\n",
      "cimport cython\n",
      "\n",
      "N = 4\n",
      "fx = np.random.random((N, N))\n",
      "fx1 = np.random.random((N, N))\n",
      "fkx  = np.fft.fftn(fx)\n",
      "fkx1 = np.fft.fftn(fx1)\n",
      "\n",
      "DTYPE   = np.float\n",
      "ctypedef np.float_t DTYPE_t\n",
      "@cython.wraparound(False)\n",
      "@cython.boundscheck(False)\n",
      "@cython.cdivision(True)\n",
      "cdef class Solver:\n",
      "    cdef readonly np.ndarray test\n",
      "    cdef int N\n",
      "    def __init__(self, N ):\n",
      "        self.N = N\n",
      "        self.test = np.empty((N, N), dtype=np.complex_)\n",
      "        \n",
      "    def addComplex(self, fx, fy):\n",
      "        cdef int i, j\n",
      "        cdef double complex fdot\n",
      "        for i in range(self.N):\n",
      "            for j in range(self.N):\n",
      "                fdot = 4*fx[i, j] + fy[i, j]\n",
      "                self.test[i, j] = fdot     "
     ],
     "language": "python",
     "metadata": {},
     "outputs": [],
     "prompt_number": 11
    },
    {
     "cell_type": "code",
     "collapsed": false,
     "input": [
      "r = Solver(N)\n",
      "r.addComplex(fkx, fkx1)\n",
      "np.allclose(r.test, 4*fkx+fkx1 )"
     ],
     "language": "python",
     "metadata": {},
     "outputs": [
      {
       "metadata": {},
       "output_type": "pyout",
       "prompt_number": 12,
       "text": [
        "True"
       ]
      }
     ],
     "prompt_number": 12
    },
    {
     "cell_type": "code",
     "collapsed": false,
     "input": [],
     "language": "python",
     "metadata": {},
     "outputs": []
    }
   ],
   "metadata": {}
  }
 ]
}