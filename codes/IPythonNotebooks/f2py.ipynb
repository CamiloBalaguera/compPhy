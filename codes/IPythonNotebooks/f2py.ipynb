{
 "metadata": {
  "name": "",
  "signature": "sha256:0b4d506ff736ff1b4f4138a5d1a69dab665f5e5a0df95d3dee0327be6056d604"
 },
 "nbformat": 3,
 "nbformat_minor": 0,
 "worksheets": [
  {
   "cells": [
    {
     "cell_type": "code",
     "collapsed": false,
     "input": [
      "!f2py -c -m ex1 ex1.f\n",
      "\n",
      "import ex1\n"
     ],
     "language": "python",
     "metadata": {},
     "outputs": [
      {
       "output_type": "stream",
       "stream": "stdout",
       "text": [
        "\u001b[39mrunning build\u001b[0m\r\n",
        "\u001b[39mrunning config_cc\u001b[0m\r\n",
        "\u001b[39munifing config_cc, config, build_clib, build_ext, build commands --compiler options\u001b[0m\r\n",
        "\u001b[39mrunning config_fc\u001b[0m\r\n",
        "\u001b[39munifing config_fc, config, build_clib, build_ext, build commands --fcompiler options\u001b[0m\r\n",
        "\u001b[39mrunning build_src\u001b[0m\r\n",
        "\u001b[39mbuild_src\u001b[0m\r\n",
        "\u001b[39mbuilding extension \"ex1\" sources\u001b[0m\r\n",
        "\u001b[39mf2py options: []\u001b[0m\r\n",
        "\u001b[39mf2py:> /tmp/tmpyQacRo/src.linux-x86_64-2.7/ex1module.c\u001b[0m\r\n",
        "\u001b[39mcreating /tmp/tmpyQacRo/src.linux-x86_64-2.7\u001b[0m\r\n"
       ]
      },
      {
       "output_type": "stream",
       "stream": "stdout",
       "text": [
        "Reading fortran codes...\r\n",
        "\tReading file 'ex1.f' (format:fix,strict)\r\n",
        "Post-processing...\r\n",
        "\tBlock: ex1\r\n",
        "\t\t\tBlock: foo\r\n",
        "Post-processing (stage 2)...\r\n",
        "Building modules...\r\n",
        "\tBuilding module \"ex1\"...\r\n",
        "\t\tConstructing wrapper function \"foo\"...\r\n",
        "\t\t  c = foo(a,b)\r\n",
        "\tWrote C/API module \"ex1\" to file \"/tmp/tmpyQacRo/src.linux-x86_64-2.7/ex1module.c\"\r\n",
        "\u001b[39m  adding '/tmp/tmpyQacRo/src.linux-x86_64-2.7/fortranobject.c' to sources.\u001b[0m\r\n",
        "\u001b[39m  adding '/tmp/tmpyQacRo/src.linux-x86_64-2.7' to include_dirs.\u001b[0m\r\n",
        "\u001b[39mcopying /usr/local/lib/python2.7/dist-packages/numpy/f2py/src/fortranobject.c -> /tmp/tmpyQacRo/src.linux-x86_64-2.7\u001b[0m\r\n",
        "\u001b[39mcopying /usr/local/lib/python2.7/dist-packages/numpy/f2py/src/fortranobject.h -> /tmp/tmpyQacRo/src.linux-x86_64-2.7\u001b[0m\r\n",
        "\u001b[39mbuild_src: building npy-pkg config files\u001b[0m\r\n",
        "\u001b[39mrunning build_ext\u001b[0m\r\n",
        "\u001b[39mcustomize UnixCCompiler\u001b[0m\r\n",
        "\u001b[39mcustomize UnixCCompiler using build_ext\u001b[0m\r\n",
        "\u001b[39mcustomize Gnu95FCompiler\u001b[0m\r\n",
        "\u001b[39mFound executable /usr/bin/gfortran\u001b[0m\r\n",
        "\u001b[39mcustomize Gnu95FCompiler\u001b[0m\r\n",
        "\u001b[39mcustomize Gnu95FCompiler using build_ext\u001b[0m\r\n",
        "\u001b[39mbuilding 'ex1' extension\u001b[0m\r\n",
        "\u001b[39mcompiling C sources\u001b[0m\r\n",
        "\u001b[39mC compiler: gcc -pthread -fno-strict-aliasing -DNDEBUG -g -fwrapv -O2 -Wall -Wstrict-prototypes -fPIC\r\n",
        "\u001b[0m\r\n",
        "\u001b[39mcreating /tmp/tmpyQacRo/tmp\u001b[0m\r\n",
        "\u001b[39mcreating /tmp/tmpyQacRo/tmp/tmpyQacRo\u001b[0m\r\n",
        "\u001b[39mcreating /tmp/tmpyQacRo/tmp/tmpyQacRo/src.linux-x86_64-2.7\u001b[0m\r\n",
        "\u001b[39mcompile options: '-I/tmp/tmpyQacRo/src.linux-x86_64-2.7 -I/usr/local/lib/python2.7/dist-packages/numpy/core/include -I/usr/include/python2.7 -c'\u001b[0m\r\n",
        "\u001b[39mgcc: /tmp/tmpyQacRo/src.linux-x86_64-2.7/fortranobject.c\u001b[0m\r\n"
       ]
      },
      {
       "output_type": "stream",
       "stream": "stdout",
       "text": [
        "In file included from /usr/local/lib/python2.7/dist-packages/numpy/core/include/numpy/ndarraytypes.h:1761:0,\r\n",
        "                 from /usr/local/lib/python2.7/dist-packages/numpy/core/include/numpy/ndarrayobject.h:17,\r\n",
        "                 from /usr/local/lib/python2.7/dist-packages/numpy/core/include/numpy/arrayobject.h:4,\r\n",
        "                 from /tmp/tmpyQacRo/src.linux-x86_64-2.7/fortranobject.h:13,\r\n",
        "                 from /tmp/tmpyQacRo/src.linux-x86_64-2.7/fortranobject.c:2:\r\n",
        "/usr/local/lib/python2.7/dist-packages/numpy/core/include/numpy/npy_1_7_deprecated_api.h:15:2: warning: #warning \"Using deprecated NumPy API, disable it by \" \"#defining NPY_NO_DEPRECATED_API NPY_1_7_API_VERSION\" [-Wcpp]\r\n"
       ]
      },
      {
       "output_type": "stream",
       "stream": "stdout",
       "text": [
        "\u001b[39mgcc: /tmp/tmpyQacRo/src.linux-x86_64-2.7/ex1module.c\u001b[0m\r\n"
       ]
      },
      {
       "output_type": "stream",
       "stream": "stdout",
       "text": [
        "In file included from /usr/local/lib/python2.7/dist-packages/numpy/core/include/numpy/ndarraytypes.h:1761:0,\r\n",
        "                 from /usr/local/lib/python2.7/dist-packages/numpy/core/include/numpy/ndarrayobject.h:17,\r\n",
        "                 from /usr/local/lib/python2.7/dist-packages/numpy/core/include/numpy/arrayobject.h:4,\r\n",
        "                 from /tmp/tmpyQacRo/src.linux-x86_64-2.7/fortranobject.h:13,\r\n",
        "                 from /tmp/tmpyQacRo/src.linux-x86_64-2.7/ex1module.c:17:\r\n",
        "/usr/local/lib/python2.7/dist-packages/numpy/core/include/numpy/npy_1_7_deprecated_api.h:15:2: warning: #warning \"Using deprecated NumPy API, disable it by \" \"#defining NPY_NO_DEPRECATED_API NPY_1_7_API_VERSION\" [-Wcpp]\r\n"
       ]
      },
      {
       "output_type": "stream",
       "stream": "stdout",
       "text": [
        "\u001b[39mcompiling Fortran sources\u001b[0m\r\n",
        "\u001b[39mFortran f77 compiler: /usr/bin/gfortran -Wall -ffixed-form -fno-second-underscore -fPIC -O3 -funroll-loops\r\n",
        "Fortran f90 compiler: /usr/bin/gfortran -Wall -fno-second-underscore -fPIC -O3 -funroll-loops\r\n",
        "Fortran fix compiler: /usr/bin/gfortran -Wall -ffixed-form -fno-second-underscore -Wall -fno-second-underscore -fPIC -O3 -funroll-loops\u001b[0m\r\n",
        "\u001b[39mcompile options: '-I/tmp/tmpyQacRo/src.linux-x86_64-2.7 -I/usr/local/lib/python2.7/dist-packages/numpy/core/include -I/usr/include/python2.7 -c'\u001b[0m\r\n",
        "\u001b[39mgfortran:f77: ex1.f\u001b[0m\r\n",
        "\u001b[39m/usr/bin/gfortran -Wall -Wall -shared /tmp/tmpyQacRo/tmp/tmpyQacRo/src.linux-x86_64-2.7/ex1module.o /tmp/tmpyQacRo/tmp/tmpyQacRo/src.linux-x86_64-2.7/fortranobject.o /tmp/tmpyQacRo/ex1.o -lgfortran -o ./ex1.so\u001b[0m\r\n",
        "Removing build directory /tmp/tmpyQacRo\r\n"
       ]
      }
     ],
     "prompt_number": 37
    },
    {
     "cell_type": "code",
     "collapsed": false,
     "input": [
      "import ex1"
     ],
     "language": "python",
     "metadata": {},
     "outputs": [],
     "prompt_number": 38
    },
    {
     "cell_type": "code",
     "collapsed": false,
     "input": [],
     "language": "python",
     "metadata": {},
     "outputs": [],
     "prompt_number": 38
    },
    {
     "cell_type": "code",
     "collapsed": false,
     "input": [
      "print ex1.__doc__\n",
      "print ex1.foo.__doc__"
     ],
     "language": "python",
     "metadata": {},
     "outputs": [
      {
       "output_type": "stream",
       "stream": "stdout",
       "text": [
        "This module 'ex1' is auto-generated with f2py (version:2).\n",
        "Functions:\n",
        "  foo(a,b,c)\n",
        ".\n",
        "foo(a,b,c)\n",
        "\n",
        "Wrapper for ``foo``.\n",
        "\n",
        "Parameters\n",
        "----------\n",
        "a : input int\n",
        "b : input int\n",
        "c : input int\n",
        "\n"
       ]
      }
     ],
     "prompt_number": 39
    },
    {
     "cell_type": "code",
     "collapsed": false,
     "input": [
      "a, b, c = 1, 12, 25\n",
      "ex1.foo(a, b, c)"
     ],
     "language": "python",
     "metadata": {},
     "outputs": [],
     "prompt_number": 44
    },
    {
     "cell_type": "code",
     "collapsed": false,
     "input": [
      "print c"
     ],
     "language": "python",
     "metadata": {},
     "outputs": [
      {
       "output_type": "stream",
       "stream": "stdout",
       "text": [
        "25\n"
       ]
      }
     ],
     "prompt_number": 45
    },
    {
     "cell_type": "code",
     "collapsed": false,
     "input": [
      "cat ex1.f"
     ],
     "language": "python",
     "metadata": {},
     "outputs": [
      {
       "output_type": "stream",
       "stream": "stdout",
       "text": [
        "C File ex1.f\r\n",
        "      subroutine foo (a, b, c)\r\n",
        "      integer a, b, c\r\n",
        "cf2py intent(out) c\r\n",
        "\r\n",
        "      c = a+b\r\n",
        "      print*, \"Hello from Fortran!\"\r\n",
        "      print*, \"a=\",a\r\n",
        "      end\r\n",
        "\r\n"
       ]
      }
     ],
     "prompt_number": 46
    },
    {
     "cell_type": "code",
     "collapsed": false,
     "input": [],
     "language": "python",
     "metadata": {},
     "outputs": [],
     "prompt_number": 46
    },
    {
     "cell_type": "code",
     "collapsed": false,
     "input": [],
     "language": "python",
     "metadata": {},
     "outputs": []
    }
   ],
   "metadata": {}
  }
 ]
}