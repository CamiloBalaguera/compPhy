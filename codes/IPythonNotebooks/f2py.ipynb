{
 "metadata": {
  "name": "",
  "signature": "sha256:0ab777b65f0522e89b62116fb8ce69563005567d072fae53530115ed8e07590b"
 },
 "nbformat": 3,
 "nbformat_minor": 0,
 "worksheets": [
  {
   "cells": [
    {
     "cell_type": "markdown",
     "metadata": {},
     "source": [
      "# f2py\n",
      "Fortran codes can be wrapped to python using f2py. Below are some examples."
     ]
    },
    {
     "cell_type": "markdown",
     "metadata": {},
     "source": [
      "## Program 1: Hello world in fortran\n",
      "Here we use f2py to wrap a fortran code which does the following thing."
     ]
    },
    {
     "cell_type": "code",
     "collapsed": false,
     "input": [
      "%%file Fortran/hello.f\n",
      "C File hello.f\n",
      "      subroutine foo (a)\n",
      "      integer a\n",
      "      print*, \"Hello from Fortran!\"\n",
      "      print*, \"a=\",a\n",
      "      end"
     ],
     "language": "python",
     "metadata": {},
     "outputs": [
      {
       "output_type": "stream",
       "stream": "stdout",
       "text": [
        "Overwriting Fortran/hello.f\n"
       ]
      }
     ],
     "prompt_number": 185
    },
    {
     "cell_type": "markdown",
     "metadata": {},
     "source": [
      "### run the code using f2py\n",
      "we need to convert it to an extension module using -m and then -c compiles this directly to a .so file, which can then be imported in python."
     ]
    },
    {
     "cell_type": "code",
     "collapsed": false,
     "input": [
      "!f2py -c -m hello Fortran/hello.f"
     ],
     "language": "python",
     "metadata": {},
     "outputs": [
      {
       "output_type": "stream",
       "stream": "stdout",
       "text": [
        "\u001b[39mrunning build\u001b[0m\r\n",
        "\u001b[39mrunning config_cc\u001b[0m\r\n",
        "\u001b[39munifing config_cc, config, build_clib, build_ext, build commands --compiler options\u001b[0m\r\n",
        "\u001b[39mrunning config_fc\u001b[0m\r\n",
        "\u001b[39munifing config_fc, config, build_clib, build_ext, build commands --fcompiler options\u001b[0m\r\n",
        "\u001b[39mrunning build_src\u001b[0m\r\n",
        "\u001b[39mbuild_src\u001b[0m\r\n",
        "\u001b[39mbuilding extension \"hello\" sources\u001b[0m\r\n",
        "\u001b[39mf2py options: []\u001b[0m\r\n",
        "\u001b[39mf2py:> /tmp/tmpkQwTAr/src.linux-x86_64-2.7/hellomodule.c\u001b[0m\r\n",
        "\u001b[39mcreating /tmp/tmpkQwTAr/src.linux-x86_64-2.7\u001b[0m\r\n"
       ]
      },
      {
       "output_type": "stream",
       "stream": "stdout",
       "text": [
        "Reading fortran codes...\r\n",
        "\tReading file 'Fortran/hello.f' (format:fix,strict)\r\n",
        "Post-processing...\r\n",
        "\tBlock: hello\r\n",
        "\t\t\tBlock: foo\r\n",
        "Post-processing (stage 2)...\r\n",
        "Building modules...\r\n",
        "\tBuilding module \"hello\"...\r\n",
        "\t\tConstructing wrapper function \"foo\"...\r\n",
        "\t\t  foo(a)\r\n",
        "\tWrote C/API module \"hello\" to file \"/tmp/tmpkQwTAr/src.linux-x86_64-2.7/hellomodule.c\"\r\n",
        "\u001b[39m  adding '/tmp/tmpkQwTAr/src.linux-x86_64-2.7/fortranobject.c' to sources.\u001b[0m\r\n",
        "\u001b[39m  adding '/tmp/tmpkQwTAr/src.linux-x86_64-2.7' to include_dirs.\u001b[0m\r\n",
        "\u001b[39mcopying /usr/local/lib/python2.7/dist-packages/numpy/f2py/src/fortranobject.c -> /tmp/tmpkQwTAr/src.linux-x86_64-2.7\u001b[0m\r\n",
        "\u001b[39mcopying /usr/local/lib/python2.7/dist-packages/numpy/f2py/src/fortranobject.h -> /tmp/tmpkQwTAr/src.linux-x86_64-2.7\u001b[0m\r\n",
        "\u001b[39mbuild_src: building npy-pkg config files\u001b[0m\r\n",
        "\u001b[39mrunning build_ext\u001b[0m\r\n",
        "\u001b[39mcustomize UnixCCompiler\u001b[0m\r\n",
        "\u001b[39mcustomize UnixCCompiler using build_ext\u001b[0m\r\n",
        "\u001b[39mcustomize Gnu95FCompiler\u001b[0m\r\n",
        "\u001b[39mFound executable /usr/bin/gfortran\u001b[0m\r\n",
        "\u001b[39mcustomize Gnu95FCompiler\u001b[0m\r\n",
        "\u001b[39mcustomize Gnu95FCompiler using build_ext\u001b[0m\r\n",
        "\u001b[39mbuilding 'hello' extension\u001b[0m\r\n",
        "\u001b[39mcompiling C sources\u001b[0m\r\n",
        "\u001b[39mC compiler: gcc -pthread -fno-strict-aliasing -DNDEBUG -g -fwrapv -O2 -Wall -Wstrict-prototypes -fPIC\r\n",
        "\u001b[0m\r\n",
        "\u001b[39mcreating /tmp/tmpkQwTAr/tmp\u001b[0m\r\n",
        "\u001b[39mcreating /tmp/tmpkQwTAr/tmp/tmpkQwTAr\u001b[0m\r\n",
        "\u001b[39mcreating /tmp/tmpkQwTAr/tmp/tmpkQwTAr/src.linux-x86_64-2.7\u001b[0m\r\n",
        "\u001b[39mcompile options: '-I/tmp/tmpkQwTAr/src.linux-x86_64-2.7 -I/usr/local/lib/python2.7/dist-packages/numpy/core/include -I/usr/include/python2.7 -c'\u001b[0m\r\n",
        "\u001b[39mgcc: /tmp/tmpkQwTAr/src.linux-x86_64-2.7/hellomodule.c\u001b[0m\r\n"
       ]
      },
      {
       "output_type": "stream",
       "stream": "stdout",
       "text": [
        "In file included from /usr/local/lib/python2.7/dist-packages/numpy/core/include/numpy/ndarraytypes.h:1761:0,\r\n",
        "                 from /usr/local/lib/python2.7/dist-packages/numpy/core/include/numpy/ndarrayobject.h:17,\r\n",
        "                 from /usr/local/lib/python2.7/dist-packages/numpy/core/include/numpy/arrayobject.h:4,\r\n",
        "                 from /tmp/tmpkQwTAr/src.linux-x86_64-2.7/fortranobject.h:13,\r\n",
        "                 from /tmp/tmpkQwTAr/src.linux-x86_64-2.7/hellomodule.c:17:\r\n",
        "/usr/local/lib/python2.7/dist-packages/numpy/core/include/numpy/npy_1_7_deprecated_api.h:15:2: warning: #warning \"Using deprecated NumPy API, disable it by \" \"#defining NPY_NO_DEPRECATED_API NPY_1_7_API_VERSION\" [-Wcpp]\r\n",
        "\u001b[39mgcc: /tmp/tmpkQwTAr/src.linux-x86_64-2.7/fortranobject.c\u001b[0m\r\n"
       ]
      },
      {
       "output_type": "stream",
       "stream": "stdout",
       "text": [
        "In file included from /usr/local/lib/python2.7/dist-packages/numpy/core/include/numpy/ndarraytypes.h:1761:0,\r\n",
        "                 from /usr/local/lib/python2.7/dist-packages/numpy/core/include/numpy/ndarrayobject.h:17,\r\n",
        "                 from /usr/local/lib/python2.7/dist-packages/numpy/core/include/numpy/arrayobject.h:4,\r\n",
        "                 from /tmp/tmpkQwTAr/src.linux-x86_64-2.7/fortranobject.h:13,\r\n",
        "                 from /tmp/tmpkQwTAr/src.linux-x86_64-2.7/fortranobject.c:2:\r\n",
        "/usr/local/lib/python2.7/dist-packages/numpy/core/include/numpy/npy_1_7_deprecated_api.h:15:2: warning: #warning \"Using deprecated NumPy API, disable it by \" \"#defining NPY_NO_DEPRECATED_API NPY_1_7_API_VERSION\" [-Wcpp]\r\n"
       ]
      },
      {
       "output_type": "stream",
       "stream": "stdout",
       "text": [
        "\u001b[39mcompiling Fortran sources\u001b[0m\r\n",
        "\u001b[39mFortran f77 compiler: /usr/bin/gfortran -Wall -ffixed-form -fno-second-underscore -fPIC -O3 -funroll-loops\r\n",
        "Fortran f90 compiler: /usr/bin/gfortran -Wall -fno-second-underscore -fPIC -O3 -funroll-loops\r\n",
        "Fortran fix compiler: /usr/bin/gfortran -Wall -ffixed-form -fno-second-underscore -Wall -fno-second-underscore -fPIC -O3 -funroll-loops\u001b[0m\r\n",
        "\u001b[39mcreating /tmp/tmpkQwTAr/Fortran\u001b[0m\r\n",
        "\u001b[39mcompile options: '-I/tmp/tmpkQwTAr/src.linux-x86_64-2.7 -I/usr/local/lib/python2.7/dist-packages/numpy/core/include -I/usr/include/python2.7 -c'\u001b[0m\r\n",
        "\u001b[39mgfortran:f77: Fortran/hello.f\u001b[0m\r\n",
        "\u001b[39m/usr/bin/gfortran -Wall -Wall -shared /tmp/tmpkQwTAr/tmp/tmpkQwTAr/src.linux-x86_64-2.7/hellomodule.o /tmp/tmpkQwTAr/tmp/tmpkQwTAr/src.linux-x86_64-2.7/fortranobject.o /tmp/tmpkQwTAr/Fortran/hello.o -lgfortran -o ./hello.so\u001b[0m\r\n",
        "Removing build directory /tmp/tmpkQwTAr\r\n"
       ]
      }
     ],
     "prompt_number": 186
    },
    {
     "cell_type": "code",
     "collapsed": false,
     "input": [
      "%%file hello.py\n",
      "import hello\n",
      "hello.foo(2)"
     ],
     "language": "python",
     "metadata": {},
     "outputs": [
      {
       "output_type": "stream",
       "stream": "stdout",
       "text": [
        "Overwriting hello.py\n"
       ]
      }
     ],
     "prompt_number": 187
    },
    {
     "cell_type": "code",
     "collapsed": false,
     "input": [
      "!python hello.py"
     ],
     "language": "python",
     "metadata": {},
     "outputs": [
      {
       "output_type": "stream",
       "stream": "stdout",
       "text": [
        " Hello from Fortran!\r\n",
        " a=           2\r\n"
       ]
      }
     ],
     "prompt_number": 188
    },
    {
     "cell_type": "markdown",
     "metadata": {},
     "source": [
      "## Program 2: addition example\n",
      "Here we use f2py to wrap a fortran code which does the following thing."
     ]
    },
    {
     "cell_type": "code",
     "collapsed": false,
     "input": [
      "%%file Fortran/add.f\n",
      "C FILE: ADD.F\n",
      "      SUBROUTINE ADDREAL(A, B, C, N)\n",
      "C\n",
      "C     CALCULATE FIRST N FIBONACCI NUMBERS\n",
      "C\n",
      "      INTEGER N\n",
      "      REAL*8 A(N)\n",
      "      REAL*8 B(N)\n",
      "      REAL*8 C(N)\n",
      "      DO I=1,N\n",
      "            C(I) = 4*A(I) + B(I)\n",
      "      ENDDO\n",
      "      END\n",
      "C END FILE ADD.F"
     ],
     "language": "python",
     "metadata": {},
     "outputs": [
      {
       "output_type": "stream",
       "stream": "stdout",
       "text": [
        "Overwriting Fortran/add.f\n"
       ]
      }
     ],
     "prompt_number": 197
    },
    {
     "cell_type": "code",
     "collapsed": false,
     "input": [
      "!f2py -c -m add Fortran/add.f"
     ],
     "language": "python",
     "metadata": {},
     "outputs": [
      {
       "output_type": "stream",
       "stream": "stdout",
       "text": [
        "\u001b[39mrunning build\u001b[0m\r\n",
        "\u001b[39mrunning config_cc\u001b[0m\r\n",
        "\u001b[39munifing config_cc, config, build_clib, build_ext, build commands --compiler options\u001b[0m\r\n",
        "\u001b[39mrunning config_fc\u001b[0m\r\n",
        "\u001b[39munifing config_fc, config, build_clib, build_ext, build commands --fcompiler options\u001b[0m\r\n",
        "\u001b[39mrunning build_src\u001b[0m\r\n",
        "\u001b[39mbuild_src\u001b[0m\r\n",
        "\u001b[39mbuilding extension \"add\" sources\u001b[0m\r\n",
        "\u001b[39mf2py options: []\u001b[0m\r\n",
        "\u001b[39mf2py:> /tmp/tmpXXBH1x/src.linux-x86_64-2.7/addmodule.c\u001b[0m\r\n",
        "\u001b[39mcreating /tmp/tmpXXBH1x/src.linux-x86_64-2.7\u001b[0m\r\n",
        "Reading fortran codes...\r\n",
        "\tReading file 'Fortran/add.f' (format:fix,strict)\r\n",
        "Post-processing...\r\n",
        "\tBlock: add\r\n",
        "\t\t\tBlock: addreal\r\n",
        "Post-processing (stage 2)...\r\n",
        "Building modules...\r\n",
        "\tBuilding module \"add\"...\r\n",
        "\t\tConstructing wrapper function \"addreal\"...\r\n",
        "\t\t  addreal(a,b,c,[n])\r\n",
        "\tWrote C/API module \"add\" to file \"/tmp/tmpXXBH1x/src.linux-x86_64-2.7/addmodule.c\"\r\n",
        "\u001b[39m  adding '/tmp/tmpXXBH1x/src.linux-x86_64-2.7/fortranobject.c' to sources.\u001b[0m\r\n",
        "\u001b[39m  adding '/tmp/tmpXXBH1x/src.linux-x86_64-2.7' to include_dirs.\u001b[0m\r\n",
        "\u001b[39mcopying /usr/local/lib/python2.7/dist-packages/numpy/f2py/src/fortranobject.c -> /tmp/tmpXXBH1x/src.linux-x86_64-2.7\u001b[0m\r\n",
        "\u001b[39mcopying /usr/local/lib/python2.7/dist-packages/numpy/f2py/src/fortranobject.h -> /tmp/tmpXXBH1x/src.linux-x86_64-2.7\u001b[0m\r\n",
        "\u001b[39mbuild_src: building npy-pkg config files\u001b[0m\r\n",
        "\u001b[39mrunning build_ext\u001b[0m\r\n",
        "\u001b[39mcustomize UnixCCompiler\u001b[0m\r\n",
        "\u001b[39mcustomize UnixCCompiler using build_ext\u001b[0m\r\n",
        "\u001b[39mcustomize Gnu95FCompiler\u001b[0m\r\n",
        "\u001b[39mFound executable /usr/bin/gfortran\u001b[0m\r\n",
        "\u001b[39mcustomize Gnu95FCompiler\u001b[0m\r\n",
        "\u001b[39mcustomize Gnu95FCompiler using build_ext\u001b[0m\r\n",
        "\u001b[39mbuilding 'add' extension\u001b[0m\r\n",
        "\u001b[39mcompiling C sources\u001b[0m\r\n",
        "\u001b[39mC compiler: gcc -pthread -fno-strict-aliasing -DNDEBUG -g -fwrapv -O2 -Wall -Wstrict-prototypes -fPIC\r\n",
        "\u001b[0m\r\n",
        "\u001b[39mcreating /tmp/tmpXXBH1x/tmp\u001b[0m\r\n",
        "\u001b[39mcreating /tmp/tmpXXBH1x/tmp/tmpXXBH1x\u001b[0m\r\n",
        "\u001b[39mcreating /tmp/tmpXXBH1x/tmp/tmpXXBH1x/src.linux-x86_64-2.7\u001b[0m\r\n",
        "\u001b[39mcompile options: '-I/tmp/tmpXXBH1x/src.linux-x86_64-2.7 -I/usr/local/lib/python2.7/dist-packages/numpy/core/include -I/usr/include/python2.7 -c'\u001b[0m\r\n",
        "\u001b[39mgcc: /tmp/tmpXXBH1x/src.linux-x86_64-2.7/addmodule.c\u001b[0m\r\n"
       ]
      },
      {
       "output_type": "stream",
       "stream": "stdout",
       "text": [
        "In file included from /usr/local/lib/python2.7/dist-packages/numpy/core/include/numpy/ndarraytypes.h:1761:0,\r\n",
        "                 from /usr/local/lib/python2.7/dist-packages/numpy/core/include/numpy/ndarrayobject.h:17,\r\n",
        "                 from /usr/local/lib/python2.7/dist-packages/numpy/core/include/numpy/arrayobject.h:4,\r\n",
        "                 from /tmp/tmpXXBH1x/src.linux-x86_64-2.7/fortranobject.h:13,\r\n",
        "                 from /tmp/tmpXXBH1x/src.linux-x86_64-2.7/addmodule.c:18:\r\n",
        "/usr/local/lib/python2.7/dist-packages/numpy/core/include/numpy/npy_1_7_deprecated_api.h:15:2: warning: #warning \"Using deprecated NumPy API, disable it by \" \"#defining NPY_NO_DEPRECATED_API NPY_1_7_API_VERSION\" [-Wcpp]\r\n",
        "/tmp/tmpXXBH1x/src.linux-x86_64-2.7/addmodule.c:111:12: warning: \u2018f2py_size\u2019 defined but not used [-Wunused-function]\r\n"
       ]
      },
      {
       "output_type": "stream",
       "stream": "stdout",
       "text": [
        "\u001b[39mgcc: /tmp/tmpXXBH1x/src.linux-x86_64-2.7/fortranobject.c\u001b[0m\r\n",
        "In file included from /usr/local/lib/python2.7/dist-packages/numpy/core/include/numpy/ndarraytypes.h:1761:0,\r\n",
        "                 from /usr/local/lib/python2.7/dist-packages/numpy/core/include/numpy/ndarrayobject.h:17,\r\n",
        "                 from /usr/local/lib/python2.7/dist-packages/numpy/core/include/numpy/arrayobject.h:4,\r\n",
        "                 from /tmp/tmpXXBH1x/src.linux-x86_64-2.7/fortranobject.h:13,\r\n",
        "                 from /tmp/tmpXXBH1x/src.linux-x86_64-2.7/fortranobject.c:2:\r\n",
        "/usr/local/lib/python2.7/dist-packages/numpy/core/include/numpy/npy_1_7_deprecated_api.h:15:2: warning: #warning \"Using deprecated NumPy API, disable it by \" \"#defining NPY_NO_DEPRECATED_API NPY_1_7_API_VERSION\" [-Wcpp]\r\n"
       ]
      },
      {
       "output_type": "stream",
       "stream": "stdout",
       "text": [
        "\u001b[39mcompiling Fortran sources\u001b[0m\r\n",
        "\u001b[39mFortran f77 compiler: /usr/bin/gfortran -Wall -ffixed-form -fno-second-underscore -fPIC -O3 -funroll-loops\r\n",
        "Fortran f90 compiler: /usr/bin/gfortran -Wall -fno-second-underscore -fPIC -O3 -funroll-loops\r\n",
        "Fortran fix compiler: /usr/bin/gfortran -Wall -ffixed-form -fno-second-underscore -Wall -fno-second-underscore -fPIC -O3 -funroll-loops\u001b[0m\r\n",
        "\u001b[39mcreating /tmp/tmpXXBH1x/Fortran\u001b[0m\r\n",
        "\u001b[39mcompile options: '-I/tmp/tmpXXBH1x/src.linux-x86_64-2.7 -I/usr/local/lib/python2.7/dist-packages/numpy/core/include -I/usr/include/python2.7 -c'\u001b[0m\r\n",
        "\u001b[39mgfortran:f77: Fortran/add.f\u001b[0m\r\n"
       ]
      },
      {
       "output_type": "stream",
       "stream": "stdout",
       "text": [
        "\u001b[39m/usr/bin/gfortran -Wall -Wall -shared /tmp/tmpXXBH1x/tmp/tmpXXBH1x/src.linux-x86_64-2.7/addmodule.o /tmp/tmpXXBH1x/tmp/tmpXXBH1x/src.linux-x86_64-2.7/fortranobject.o /tmp/tmpXXBH1x/Fortran/add.o -lgfortran -o ./add.so\u001b[0m\r\n",
        "Removing build directory /tmp/tmpXXBH1x\r\n"
       ]
      }
     ],
     "prompt_number": 198
    },
    {
     "cell_type": "code",
     "collapsed": false,
     "input": [
      "%%file add.py\n",
      "import add\n",
      "import numpy as np\n",
      "A = np.ones(4)\n",
      "B = 12*np.ones(4)\n",
      "C = np.zeros(4)\n",
      "\n",
      "print \"initial value of before the function call for sum C = 4A + B\"\n",
      "print C\n",
      "print \n",
      "\n",
      "add.addreal(A, B, C)\n",
      "\n",
      "print \"Value of a after the function call\"\n",
      "print C "
     ],
     "language": "python",
     "metadata": {},
     "outputs": [
      {
       "output_type": "stream",
       "stream": "stdout",
       "text": [
        "Overwriting add.py\n"
       ]
      }
     ],
     "prompt_number": 199
    },
    {
     "cell_type": "code",
     "collapsed": false,
     "input": [
      "!python add.py"
     ],
     "language": "python",
     "metadata": {},
     "outputs": [
      {
       "output_type": "stream",
       "stream": "stdout",
       "text": [
        "initial value of before the function call for sum C = 4A + B\r\n",
        "[ 0.  0.  0.  0.]\r\n",
        "\r\n",
        "Value of a after the function call\r\n",
        "[ 16.  16.  16.  16.]\r\n"
       ]
      }
     ],
     "prompt_number": 200
    },
    {
     "cell_type": "markdown",
     "metadata": {},
     "source": [
      "## Program 3: FIBONACCI\n",
      "Here we use f2py to wrap a fortran code which does the following thing."
     ]
    },
    {
     "cell_type": "code",
     "collapsed": false,
     "input": [
      "%%file Fortran/fib1.f\n",
      "C FILE: FIB1.F\n",
      "      SUBROUTINE FIB(A,N)\n",
      "C\n",
      "C     CALCULATE FIRST N FIBONACCI NUMBERS\n",
      "C\n",
      "      INTEGER N\n",
      "      REAL*8 A(N)\n",
      "      DO I=1,N\n",
      "         IF (I.EQ.1) THEN\n",
      "            A(I) = 0.0D0\n",
      "         ELSEIF (I.EQ.2) THEN\n",
      "            A(I) = 1.0D0\n",
      "         ELSE \n",
      "            A(I) = A(I-1) + A(I-2)\n",
      "         ENDIF\n",
      "      ENDDO\n",
      "      END\n",
      "C END FILE FIB1.F"
     ],
     "language": "python",
     "metadata": {},
     "outputs": [
      {
       "output_type": "stream",
       "stream": "stdout",
       "text": [
        "Overwriting Fortran/fib1.f\n"
       ]
      }
     ],
     "prompt_number": 227
    },
    {
     "cell_type": "code",
     "collapsed": false,
     "input": [
      "!f2py -c -m fib1 Fortran/fib1.f"
     ],
     "language": "python",
     "metadata": {},
     "outputs": [
      {
       "output_type": "stream",
       "stream": "stdout",
       "text": [
        "\u001b[39mrunning build\u001b[0m\r\n",
        "\u001b[39mrunning config_cc\u001b[0m\r\n",
        "\u001b[39munifing config_cc, config, build_clib, build_ext, build commands --compiler options\u001b[0m\r\n",
        "\u001b[39mrunning config_fc\u001b[0m\r\n",
        "\u001b[39munifing config_fc, config, build_clib, build_ext, build commands --fcompiler options\u001b[0m\r\n",
        "\u001b[39mrunning build_src\u001b[0m\r\n",
        "\u001b[39mbuild_src\u001b[0m\r\n",
        "\u001b[39mbuilding extension \"fib1\" sources\u001b[0m\r\n",
        "\u001b[39mf2py options: []\u001b[0m\r\n",
        "\u001b[39mf2py:> /tmp/tmpZtcRsD/src.linux-x86_64-2.7/fib1module.c\u001b[0m\r\n",
        "\u001b[39mcreating /tmp/tmpZtcRsD/src.linux-x86_64-2.7\u001b[0m\r\n"
       ]
      },
      {
       "output_type": "stream",
       "stream": "stdout",
       "text": [
        "Reading fortran codes...\r\n",
        "\tReading file 'Fortran/fib1.f' (format:fix,strict)\r\n",
        "Post-processing...\r\n",
        "\tBlock: fib1\r\n",
        "\t\t\tBlock: fib\r\n",
        "Post-processing (stage 2)...\r\n",
        "Building modules...\r\n",
        "\tBuilding module \"fib1\"...\r\n",
        "\t\tConstructing wrapper function \"fib\"...\r\n",
        "\t\t  fib(a,[n])\r\n",
        "\tWrote C/API module \"fib1\" to file \"/tmp/tmpZtcRsD/src.linux-x86_64-2.7/fib1module.c\"\r\n",
        "\u001b[39m  adding '/tmp/tmpZtcRsD/src.linux-x86_64-2.7/fortranobject.c' to sources.\u001b[0m\r\n",
        "\u001b[39m  adding '/tmp/tmpZtcRsD/src.linux-x86_64-2.7' to include_dirs.\u001b[0m\r\n",
        "\u001b[39mcopying /usr/local/lib/python2.7/dist-packages/numpy/f2py/src/fortranobject.c -> /tmp/tmpZtcRsD/src.linux-x86_64-2.7\u001b[0m\r\n",
        "\u001b[39mcopying /usr/local/lib/python2.7/dist-packages/numpy/f2py/src/fortranobject.h -> /tmp/tmpZtcRsD/src.linux-x86_64-2.7\u001b[0m\r\n",
        "\u001b[39mbuild_src: building npy-pkg config files\u001b[0m\r\n",
        "\u001b[39mrunning build_ext\u001b[0m\r\n",
        "\u001b[39mcustomize UnixCCompiler\u001b[0m\r\n",
        "\u001b[39mcustomize UnixCCompiler using build_ext\u001b[0m\r\n",
        "\u001b[39mcustomize Gnu95FCompiler\u001b[0m\r\n",
        "\u001b[39mFound executable /usr/bin/gfortran\u001b[0m\r\n"
       ]
      },
      {
       "output_type": "stream",
       "stream": "stdout",
       "text": [
        "\u001b[39mcustomize Gnu95FCompiler\u001b[0m\r\n"
       ]
      },
      {
       "output_type": "stream",
       "stream": "stdout",
       "text": [
        "\u001b[39mcustomize Gnu95FCompiler using build_ext\u001b[0m\r\n",
        "\u001b[39mbuilding 'fib1' extension\u001b[0m\r\n",
        "\u001b[39mcompiling C sources\u001b[0m\r\n",
        "\u001b[39mC compiler: gcc -pthread -fno-strict-aliasing -DNDEBUG -g -fwrapv -O2 -Wall -Wstrict-prototypes -fPIC\r\n",
        "\u001b[0m\r\n",
        "\u001b[39mcreating /tmp/tmpZtcRsD/tmp\u001b[0m\r\n",
        "\u001b[39mcreating /tmp/tmpZtcRsD/tmp/tmpZtcRsD\u001b[0m\r\n",
        "\u001b[39mcreating /tmp/tmpZtcRsD/tmp/tmpZtcRsD/src.linux-x86_64-2.7\u001b[0m\r\n",
        "\u001b[39mcompile options: '-I/tmp/tmpZtcRsD/src.linux-x86_64-2.7 -I/usr/local/lib/python2.7/dist-packages/numpy/core/include -I/usr/include/python2.7 -c'\u001b[0m\r\n",
        "\u001b[39mgcc: /tmp/tmpZtcRsD/src.linux-x86_64-2.7/fib1module.c\u001b[0m\r\n",
        "In file included from /usr/local/lib/python2.7/dist-packages/numpy/core/include/numpy/ndarraytypes.h:1761:0,\r\n",
        "                 from /usr/local/lib/python2.7/dist-packages/numpy/core/include/numpy/ndarrayobject.h:17,\r\n",
        "                 from /usr/local/lib/python2.7/dist-packages/numpy/core/include/numpy/arrayobject.h:4,\r\n",
        "                 from /tmp/tmpZtcRsD/src.linux-x86_64-2.7/fortranobject.h:13,\r\n",
        "                 from /tmp/tmpZtcRsD/src.linux-x86_64-2.7/fib1module.c:18:\r\n",
        "/usr/local/lib/python2.7/dist-packages/numpy/core/include/numpy/npy_1_7_deprecated_api.h:15:2: warning: #warning \"Using deprecated NumPy API, disable it by \" \"#defining NPY_NO_DEPRECATED_API NPY_1_7_API_VERSION\" [-Wcpp]\r\n",
        "/tmp/tmpZtcRsD/src.linux-x86_64-2.7/fib1module.c:111:12: warning: \u2018f2py_size\u2019 defined but not used [-Wunused-function]\r\n"
       ]
      },
      {
       "output_type": "stream",
       "stream": "stdout",
       "text": [
        "\u001b[39mgcc: /tmp/tmpZtcRsD/src.linux-x86_64-2.7/fortranobject.c\u001b[0m\r\n"
       ]
      },
      {
       "output_type": "stream",
       "stream": "stdout",
       "text": [
        "In file included from /usr/local/lib/python2.7/dist-packages/numpy/core/include/numpy/ndarraytypes.h:1761:0,\r\n",
        "                 from /usr/local/lib/python2.7/dist-packages/numpy/core/include/numpy/ndarrayobject.h:17,\r\n",
        "                 from /usr/local/lib/python2.7/dist-packages/numpy/core/include/numpy/arrayobject.h:4,\r\n",
        "                 from /tmp/tmpZtcRsD/src.linux-x86_64-2.7/fortranobject.h:13,\r\n",
        "                 from /tmp/tmpZtcRsD/src.linux-x86_64-2.7/fortranobject.c:2:\r\n",
        "/usr/local/lib/python2.7/dist-packages/numpy/core/include/numpy/npy_1_7_deprecated_api.h:15:2: warning: #warning \"Using deprecated NumPy API, disable it by \" \"#defining NPY_NO_DEPRECATED_API NPY_1_7_API_VERSION\" [-Wcpp]\r\n"
       ]
      },
      {
       "output_type": "stream",
       "stream": "stdout",
       "text": [
        "\u001b[39mcompiling Fortran sources\u001b[0m\r\n",
        "\u001b[39mFortran f77 compiler: /usr/bin/gfortran -Wall -ffixed-form -fno-second-underscore -fPIC -O3 -funroll-loops\r\n",
        "Fortran f90 compiler: /usr/bin/gfortran -Wall -fno-second-underscore -fPIC -O3 -funroll-loops\r\n",
        "Fortran fix compiler: /usr/bin/gfortran -Wall -ffixed-form -fno-second-underscore -Wall -fno-second-underscore -fPIC -O3 -funroll-loops\u001b[0m\r\n",
        "\u001b[39mcreating /tmp/tmpZtcRsD/Fortran\u001b[0m\r\n",
        "\u001b[39mcompile options: '-I/tmp/tmpZtcRsD/src.linux-x86_64-2.7 -I/usr/local/lib/python2.7/dist-packages/numpy/core/include -I/usr/include/python2.7 -c'\u001b[0m\r\n",
        "\u001b[39mgfortran:f77: Fortran/fib1.f\u001b[0m\r\n"
       ]
      },
      {
       "output_type": "stream",
       "stream": "stdout",
       "text": [
        "\u001b[39m/usr/bin/gfortran -Wall -Wall -shared /tmp/tmpZtcRsD/tmp/tmpZtcRsD/src.linux-x86_64-2.7/fib1module.o /tmp/tmpZtcRsD/tmp/tmpZtcRsD/src.linux-x86_64-2.7/fortranobject.o /tmp/tmpZtcRsD/Fortran/fib1.o -lgfortran -o ./fib1.so\u001b[0m\r\n",
        "Removing build directory /tmp/tmpZtcRsD\r\n"
       ]
      }
     ],
     "prompt_number": 228
    },
    {
     "cell_type": "code",
     "collapsed": false,
     "input": [
      "%%file fib1.py\n",
      "import numpy as np\n",
      "import fib1\n",
      "a=np.zeros(10) \n",
      "\n",
      "print \"initial value of a\"\n",
      "print a \n",
      "print \n",
      "\n",
      "fib1.fib(a, 10) \n",
      "\n",
      "print \"Value of a after the function call\"\n",
      "print a "
     ],
     "language": "python",
     "metadata": {},
     "outputs": [
      {
       "output_type": "stream",
       "stream": "stdout",
       "text": [
        "Overwriting fib1.py\n"
       ]
      }
     ],
     "prompt_number": 203
    },
    {
     "cell_type": "code",
     "collapsed": false,
     "input": [
      "!python fib1.py"
     ],
     "language": "python",
     "metadata": {},
     "outputs": [
      {
       "output_type": "stream",
       "stream": "stdout",
       "text": [
        "initial value of a\r\n",
        "[ 0.  0.  0.  0.  0.  0.  0.  0.  0.  0.]\r\n",
        "\r\n",
        "Value of a after the function call\r\n",
        "[  0.   1.   1.   2.   3.   5.   8.  13.  21.  34.]\r\n"
       ]
      }
     ],
     "prompt_number": 204
    },
    {
     "cell_type": "code",
     "collapsed": false,
     "input": [
      "##avs in \n",
      "def pyAvg(X):\n",
      "    avg = 0\n",
      "    for n in range(len(X)):\n",
      "        avg += X[n]/len(X)\n",
      "    return avg"
     ],
     "language": "python",
     "metadata": {},
     "outputs": [],
     "prompt_number": 209
    },
    {
     "cell_type": "code",
     "collapsed": false,
     "input": [
      "X = np.random.randn(1000000)\n",
      "pyAvg(X)"
     ],
     "language": "python",
     "metadata": {},
     "outputs": [
      {
       "metadata": {},
       "output_type": "pyout",
       "prompt_number": 214,
       "text": [
        "0.00030171217608377044"
       ]
      }
     ],
     "prompt_number": 214
    },
    {
     "cell_type": "code",
     "collapsed": false,
     "input": [
      "%%file Fortran/avg.f\n",
      "C FILE: FIB1.F\n",
      "      SUBROUTINE AVG(A, B, C, N)\n",
      "C\n",
      "C     CALCULATE FIRST N FIBONACCI NUMBERS\n",
      "C\n",
      "      INTEGER N\n",
      "      REAL*8 A(N)\n",
      "      REAL*8 B(N)\n",
      "      REAL*8 C(1)\n",
      "      C = 10\n",
      "      DO I=1,N\n",
      "            C  = C + 4*A(I) + B(I)\n",
      "      ENDDO\n",
      "      END\n",
      "C END FILE FIB1.F"
     ],
     "language": "python",
     "metadata": {},
     "outputs": [
      {
       "output_type": "stream",
       "stream": "stdout",
       "text": [
        "Overwriting Fortran/avg.f\n"
       ]
      }
     ],
     "prompt_number": 282
    },
    {
     "cell_type": "code",
     "collapsed": false,
     "input": [
      "!f2py -c -m avg Fortran/avg.f "
     ],
     "language": "python",
     "metadata": {},
     "outputs": [
      {
       "output_type": "stream",
       "stream": "stdout",
       "text": [
        "\u001b[39mrunning build\u001b[0m\r\n",
        "\u001b[39mrunning config_cc\u001b[0m\r\n",
        "\u001b[39munifing config_cc, config, build_clib, build_ext, build commands --compiler options\u001b[0m\r\n",
        "\u001b[39mrunning config_fc\u001b[0m\r\n",
        "\u001b[39munifing config_fc, config, build_clib, build_ext, build commands --fcompiler options\u001b[0m\r\n",
        "\u001b[39mrunning build_src\u001b[0m\r\n",
        "\u001b[39mbuild_src\u001b[0m\r\n",
        "\u001b[39mbuilding extension \"avg\" sources\u001b[0m\r\n",
        "\u001b[39mf2py options: []\u001b[0m\r\n",
        "\u001b[39mf2py:> /tmp/tmpx7tPX7/src.linux-x86_64-2.7/avgmodule.c\u001b[0m\r\n",
        "\u001b[39mcreating /tmp/tmpx7tPX7/src.linux-x86_64-2.7\u001b[0m\r\n"
       ]
      },
      {
       "output_type": "stream",
       "stream": "stdout",
       "text": [
        "Reading fortran codes...\r\n",
        "\tReading file 'Fortran/avg.f' (format:fix,strict)\r\n",
        "Post-processing...\r\n",
        "\tBlock: avg\r\n",
        "\t\t\tBlock: avg\r\n",
        "Post-processing (stage 2)...\r\n",
        "Building modules...\r\n",
        "\tBuilding module \"avg\"...\r\n",
        "\t\tConstructing wrapper function \"avg\"...\r\n",
        "\t\t  avg(a,b,c,[n])\r\n",
        "\tWrote C/API module \"avg\" to file \"/tmp/tmpx7tPX7/src.linux-x86_64-2.7/avgmodule.c\"\r\n",
        "\u001b[39m  adding '/tmp/tmpx7tPX7/src.linux-x86_64-2.7/fortranobject.c' to sources.\u001b[0m\r\n",
        "\u001b[39m  adding '/tmp/tmpx7tPX7/src.linux-x86_64-2.7' to include_dirs.\u001b[0m\r\n",
        "\u001b[39mcopying /usr/local/lib/python2.7/dist-packages/numpy/f2py/src/fortranobject.c -> /tmp/tmpx7tPX7/src.linux-x86_64-2.7\u001b[0m\r\n",
        "\u001b[39mcopying /usr/local/lib/python2.7/dist-packages/numpy/f2py/src/fortranobject.h -> /tmp/tmpx7tPX7/src.linux-x86_64-2.7\u001b[0m\r\n",
        "\u001b[39mbuild_src: building npy-pkg config files\u001b[0m\r\n",
        "\u001b[39mrunning build_ext\u001b[0m\r\n",
        "\u001b[39mcustomize UnixCCompiler\u001b[0m\r\n",
        "\u001b[39mcustomize UnixCCompiler using build_ext\u001b[0m\r\n",
        "\u001b[39mcustomize Gnu95FCompiler\u001b[0m\r\n",
        "\u001b[39mFound executable /usr/bin/gfortran\u001b[0m\r\n",
        "\u001b[39mcustomize Gnu95FCompiler\u001b[0m\r\n",
        "\u001b[39mcustomize Gnu95FCompiler using build_ext\u001b[0m\r\n",
        "\u001b[39mbuilding 'avg' extension\u001b[0m\r\n",
        "\u001b[39mcompiling C sources\u001b[0m\r\n",
        "\u001b[39mC compiler: gcc -pthread -fno-strict-aliasing -DNDEBUG -g -fwrapv -O2 -Wall -Wstrict-prototypes -fPIC\r\n",
        "\u001b[0m\r\n",
        "\u001b[39mcreating /tmp/tmpx7tPX7/tmp\u001b[0m\r\n",
        "\u001b[39mcreating /tmp/tmpx7tPX7/tmp/tmpx7tPX7\u001b[0m\r\n",
        "\u001b[39mcreating /tmp/tmpx7tPX7/tmp/tmpx7tPX7/src.linux-x86_64-2.7\u001b[0m\r\n",
        "\u001b[39mcompile options: '-I/tmp/tmpx7tPX7/src.linux-x86_64-2.7 -I/usr/local/lib/python2.7/dist-packages/numpy/core/include -I/usr/include/python2.7 -c'\u001b[0m\r\n",
        "\u001b[39mgcc: /tmp/tmpx7tPX7/src.linux-x86_64-2.7/avgmodule.c\u001b[0m\r\n"
       ]
      },
      {
       "output_type": "stream",
       "stream": "stdout",
       "text": [
        "In file included from /usr/local/lib/python2.7/dist-packages/numpy/core/include/numpy/ndarraytypes.h:1761:0,\r\n",
        "                 from /usr/local/lib/python2.7/dist-packages/numpy/core/include/numpy/ndarrayobject.h:17,\r\n",
        "                 from /usr/local/lib/python2.7/dist-packages/numpy/core/include/numpy/arrayobject.h:4,\r\n",
        "                 from /tmp/tmpx7tPX7/src.linux-x86_64-2.7/fortranobject.h:13,\r\n",
        "                 from /tmp/tmpx7tPX7/src.linux-x86_64-2.7/avgmodule.c:18:\r\n",
        "/usr/local/lib/python2.7/dist-packages/numpy/core/include/numpy/npy_1_7_deprecated_api.h:15:2: warning: #warning \"Using deprecated NumPy API, disable it by \" \"#defining NPY_NO_DEPRECATED_API NPY_1_7_API_VERSION\" [-Wcpp]\r\n",
        "/tmp/tmpx7tPX7/src.linux-x86_64-2.7/avgmodule.c:111:12: warning: \u2018f2py_size\u2019 defined but not used [-Wunused-function]\r\n"
       ]
      },
      {
       "output_type": "stream",
       "stream": "stdout",
       "text": [
        "\u001b[39mgcc: /tmp/tmpx7tPX7/src.linux-x86_64-2.7/fortranobject.c\u001b[0m\r\n",
        "In file included from /usr/local/lib/python2.7/dist-packages/numpy/core/include/numpy/ndarraytypes.h:1761:0,\r\n",
        "                 from /usr/local/lib/python2.7/dist-packages/numpy/core/include/numpy/ndarrayobject.h:17,\r\n",
        "                 from /usr/local/lib/python2.7/dist-packages/numpy/core/include/numpy/arrayobject.h:4,\r\n",
        "                 from /tmp/tmpx7tPX7/src.linux-x86_64-2.7/fortranobject.h:13,\r\n",
        "                 from /tmp/tmpx7tPX7/src.linux-x86_64-2.7/fortranobject.c:2:\r\n",
        "/usr/local/lib/python2.7/dist-packages/numpy/core/include/numpy/npy_1_7_deprecated_api.h:15:2: warning: #warning \"Using deprecated NumPy API, disable it by \" \"#defining NPY_NO_DEPRECATED_API NPY_1_7_API_VERSION\" [-Wcpp]\r\n"
       ]
      },
      {
       "output_type": "stream",
       "stream": "stdout",
       "text": [
        "\u001b[39mcompiling Fortran sources\u001b[0m\r\n",
        "\u001b[39mFortran f77 compiler: /usr/bin/gfortran -Wall -ffixed-form -fno-second-underscore -fPIC -O3 -funroll-loops\r\n",
        "Fortran f90 compiler: /usr/bin/gfortran -Wall -fno-second-underscore -fPIC -O3 -funroll-loops\r\n",
        "Fortran fix compiler: /usr/bin/gfortran -Wall -ffixed-form -fno-second-underscore -Wall -fno-second-underscore -fPIC -O3 -funroll-loops\u001b[0m\r\n",
        "\u001b[39mcreating /tmp/tmpx7tPX7/Fortran\u001b[0m\r\n",
        "\u001b[39mcompile options: '-I/tmp/tmpx7tPX7/src.linux-x86_64-2.7 -I/usr/local/lib/python2.7/dist-packages/numpy/core/include -I/usr/include/python2.7 -c'\u001b[0m\r\n",
        "\u001b[39mgfortran:f77: Fortran/avg.f\u001b[0m\r\n"
       ]
      },
      {
       "output_type": "stream",
       "stream": "stdout",
       "text": [
        "\u001b[39m/usr/bin/gfortran -Wall -Wall -shared /tmp/tmpx7tPX7/tmp/tmpx7tPX7/src.linux-x86_64-2.7/avgmodule.o /tmp/tmpx7tPX7/tmp/tmpx7tPX7/src.linux-x86_64-2.7/fortranobject.o /tmp/tmpx7tPX7/Fortran/avg.o -lgfortran -o ./avg.so\u001b[0m\r\n",
        "Removing build directory /tmp/tmpx7tPX7\r\n"
       ]
      }
     ],
     "prompt_number": 283
    },
    {
     "cell_type": "code",
     "collapsed": false,
     "input": [
      "%%file avg.py\n",
      "import numpy as np\n",
      "import avg\n",
      "a=12*np.ones(10) \n",
      "b=12*np.ones(10) \n",
      "c=0\n",
      "#b = 1\n",
      "avg.avg(a, b, c) \n",
      "print c"
     ],
     "language": "python",
     "metadata": {},
     "outputs": [
      {
       "output_type": "stream",
       "stream": "stdout",
       "text": [
        "Overwriting avg.py\n"
       ]
      }
     ],
     "prompt_number": 284
    },
    {
     "cell_type": "code",
     "collapsed": false,
     "input": [
      "!python avg.py"
     ],
     "language": "python",
     "metadata": {},
     "outputs": [
      {
       "output_type": "stream",
       "stream": "stdout",
       "text": [
        "0\r\n"
       ]
      }
     ],
     "prompt_number": 285
    },
    {
     "cell_type": "markdown",
     "metadata": {},
     "source": [
      "### References:\n",
      "\n",
      "Some of the examples were taken from \n",
      "* http://cens.ioc.ee/projects/f2py2e/\n",
      "* https://github.com/thehackerwithin/PyTrieste/wiki/F2Py"
     ]
    },
    {
     "cell_type": "code",
     "collapsed": false,
     "input": [],
     "language": "python",
     "metadata": {},
     "outputs": []
    }
   ],
   "metadata": {}
  }
 ]
}