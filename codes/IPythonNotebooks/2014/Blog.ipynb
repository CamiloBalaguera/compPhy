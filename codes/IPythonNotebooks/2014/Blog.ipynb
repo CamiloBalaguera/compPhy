{
 "metadata": {
  "name": "",
  "signature": "sha256:e0a671131f4df60ae608430e72dd72b00b1828184d5b90b256b03ae6d5562a98"
 },
 "nbformat": 3,
 "nbformat_minor": 0,
 "worksheets": [
  {
   "cells": [
    {
     "cell_type": "markdown",
     "metadata": {},
     "source": [
      "#Posts"
     ]
    },
    {
     "cell_type": "markdown",
     "metadata": {},
     "source": [
      "##[ASEP](http://rajeshrinet.github.io/blog/2014/asep/)\n",
      "Asymmetric simple exclusion processes (ASEP) are stochastic lattice models of particles entering, hopping and leaving the lattice, with hard core interaction between them. "
     ]
    },
    {
     "cell_type": "markdown",
     "metadata": {},
     "source": [
      "##[Central limit theorem](http://rajeshrinet.github.io/blog/2014/central-limit-theorem/)\n",
      "Central limit theorem states that sum of independent and identically distributed random numbers approach a Gaussian distribution. "
     ]
    },
    {
     "cell_type": "markdown",
     "metadata": {},
     "source": [
      "##[Cython](http://rajeshrinet.github.io/blog/2014/cython/)\n",
      "Cython is an attempt to make a superset of python which has the high level coolness of python along with the speed of C. "
     ]
    },
    {
     "cell_type": "markdown",
     "metadata": {},
     "source": [
      "##[Data analysis](http://rajeshrinet.github.io/blog/2014/data-analysis/)\n",
      "Some basic data analysis using python has been discussed here. \n"
     ]
    },
    {
     "cell_type": "markdown",
     "metadata": {},
     "source": [
      "##[Ising model](http://rajeshrinet.github.io/blog/2014/ising-model/)\n",
      "Here, Ising model is simulated using Monte Carlo algorithm. Also, discussed is the corresponding hydrodynamic model. "
     ]
    },
    {
     "cell_type": "markdown",
     "metadata": {},
     "source": [
      "##[ODEs](http://rajeshrinet.github.io/blog/2014/odes/)\n",
      "Some techniques to solve ordinary differential equations in python. "
     ]
    },
    {
     "cell_type": "markdown",
     "metadata": {},
     "source": [
      "##[PDEs](http://rajeshrinet.github.io/blog/2014/pdes/)\n",
      "Solving partial differential equations in python. "
     ]
    },
    {
     "cell_type": "markdown",
     "metadata": {},
     "source": [
      "##[Plotting in python](http://rajeshrinet.github.io/blog/2014/numpy-matplotlib/)\n",
      "Here, we discuss some basic plotting using matplotlib. "
     ]
    },
    {
     "cell_type": "markdown",
     "metadata": {},
     "source": [
      "$$\n",
      "$$\n",
      "\n",
      "\n",
      "The contents of the blog have been written in IPython notebooks. The notebooks can be accessed [here](https://github.com/rajeshrinet/compPhy/tree/master/codes/IPythonNotebooks). \n",
      "\n",
      "The statically viewed notebooks can be found [here](http://nbviewer.ipython.org/github/rajeshrinet/compPhy/tree/master/codes/IPythonNotebooks/). These posts are, mostly, based on the [weekly discussions](http://rajeshrinet.github.io/links/) we have at [IMSc](https://www.imsc.res.in/). \n"
     ]
    }
   ],
   "metadata": {}
  }
 ]
}