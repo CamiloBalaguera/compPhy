{
 "metadata": {
  "name": "",
  "signature": "sha256:de6dbaa13beb5d8b51a4654fcc96186510b78811e7d965d81c5c6535ae433731"
 },
 "nbformat": 3,
 "nbformat_minor": 0,
 "worksheets": [
  {
   "cells": [
    {
     "cell_type": "markdown",
     "metadata": {},
     "source": [
      "## Fourier methods\n",
      "\n",
      "Fourier transform (FT) for a well-behaved functions $f$ is defined as:\n",
      "\n",
      "$$f(k) = \\int e^{ikx} f(x) ~dx$$\n",
      "\n",
      "The inverse FT is then \n",
      "\n",
      "$$f(x) = \\frac{1}{2\\pi} \\int e^{ikx} f(k) ~dk$$\n",
      "\n"
     ]
    },
    {
     "cell_type": "markdown",
     "metadata": {},
     "source": [
      "## Discrete fourier tranforms (DFTs)\n",
      "\n",
      "\n",
      "If the function is periodic in real space, $f(x+L) = f(x)$, then the Fourier space is discrete with spacing $\\frac{2\\pi}{L}$. \n",
      "\n",
      "$$f(x) = \\sum e^{ikx} f(k) ~dk~~~~~~      \\text{where } k = \\Bigg[ -\\frac{\\pi}{L}, \\frac{\\pi}{L}\\Bigg];~~ \\text{with interval} \\frac{2\\pi}{L} $$\n",
      "\n",
      "\n",
      "Usually in computations we need to find FT of discrete function rather than of a well defined analytic function. So Fourier space is both bounded and discrete. Also, the Fourier space is continous if the real space is unbounded. If the function is defined at $N$ points in real space and one wants to calculate the function at $N$ points in Fourier space, then DFT is defined as \n",
      "\n",
      "$$f_k = \\sum_{n=0}^{N-1} f_n ~ e^{i~2\\pi~k~n~/~N}$$\n",
      "\n",
      "while the inverse of this is\n",
      "\n",
      "$$f_n = \\sum_{n=0}^{N-1} f_k ~ e^{i~2\\pi~k~n~/~N}$$\n",
      "\n",
      "To calculate each $f_n$ one needs $N$ computations and it has to be done $N$ times, i.e, the algorithm is simply $\\mathcal{O}(N^2)$. This can be implemented numerically as a matrix multiplication, $f_k = M\\cdot f_n$, where $M$ is a $N\\times N$ matrix.\n"
     ]
    },
    {
     "cell_type": "markdown",
     "metadata": {},
     "source": [
      "## Fast fourier tranforms (FFTs)\n",
      "\n",
      "FFTs improves on DFTs by exploiting their symmetries. \n",
      "\n",
      "$$ \\begin{align}\n",
      "f_k &= \\sum_{n=0}^{N-1} f_n  e^{-i~\\frac{2\\pi~k~n}{N}} \\\\\n",
      "&= \\sum_{m=0}^{N/2-1} f_{2m} e^{-i~\\frac{2\\pi~k~2m}{N}} &+ \\sum_{m=0}^{N/2-1} f_{2m + 1} e^{-i~\\frac{2\\pi~k~(m+1)}{N}}\\\\\n",
      "&= \\sum_{m=0}^{N/2 - 1} f_{2m} e^{-i~\\frac{2\\pi k~m}{N/2}} &+ e^{-i\\frac{2\\pi}{N}} \\sum_{m=0}^{N/2 - 1} f_{2m + 1} e^{-i~\\frac{2\\pi~k~m~}{N/2}}\\\\\n",
      "&=\\vdots &\\vdots\n",
      "\\end{align}$$\n",
      "\n",
      "Because of the tree structure the complexity of the problem becomes $\\mathcal{O}(N \\ln N)$ which becomes a major advantage over the $\\mathcal{O}(N^2)$ algorithm. Below we will look at a simple implementation of FFT"
     ]
    },
    {
     "cell_type": "code",
     "collapsed": false,
     "input": [
      "from __future__ import division\n",
      "import numpy as np"
     ],
     "language": "python",
     "metadata": {},
     "outputs": [],
     "prompt_number": 4
    },
    {
     "cell_type": "code",
     "collapsed": false,
     "input": [
      "def testFFT(x):\n",
      "    ''' FFT in 1d  '''\n",
      "    N = x.shape[0]\n",
      "    if N % 2 > 0:\n",
      "        raise Exception('x must have even size')\n",
      "    elif N <= 16: \n",
      "        ''' this is the naive implementation using matrix multiplication'''\n",
      "        n = np.arange(N)\n",
      "        k = n.reshape((N, 1))\n",
      "        M = np.exp(-2j * np.pi * k * n / N)\n",
      "        return np.dot(M, x)\n",
      "    else:\n",
      "        M1 = testFFT(x[::2])\n",
      "        M2 = testFFT(x[1::2])\n",
      "        fac = np.exp(-2j * np.pi * np.arange(N) / N)\n",
      "        return np.concatenate([M1+fac[:N/2] * M2, M1+fac[N/2:]*M2])"
     ],
     "language": "python",
     "metadata": {},
     "outputs": [],
     "prompt_number": 5
    },
    {
     "cell_type": "code",
     "collapsed": false,
     "input": [
      "x = np.random.random(1024)\n",
      "np.allclose(np.fft.fftn(x), testFFT(x))"
     ],
     "language": "python",
     "metadata": {},
     "outputs": [
      {
       "metadata": {},
       "output_type": "pyout",
       "prompt_number": 6,
       "text": [
        "True"
       ]
      }
     ],
     "prompt_number": 6
    },
    {
     "cell_type": "code",
     "collapsed": false,
     "input": [
      "# TRANSLATION by e^{ikr}!\n",
      "L, N = 64, 128       \n",
      "ll =  linspace(0, L, N)    \n",
      "x, y = meshgrid(ll, ll)\n",
      "\n",
      "# Fourier grid.\n",
      "kx = 2 * np.pi / L * np.concatenate((np.arange(0, N/2+1,1),np.arange(-N/2+1, 0, 1)))  # k = (2\\pi)/L\n",
      "ky = 2 * np.pi / L * np.concatenate((np.arange(0, N/2+1,1),np.arange(-N/2+1, 0, 1)))\n",
      "kx, ky = np.meshgrid(kx, ky) \n",
      "\n",
      "def plotFirst(x, y, sig, n_):\n",
      "    sp =  f.add_subplot(1, 3, n_ )\n",
      "    pcolormesh(x, y, sig, cmap=plt.cm.gist_heat_r)\n",
      "    axis('off');\n",
      "    \n",
      "f = plt.figure(figsize=(20, 5), dpi=80);  \n",
      "rr = sqrt( (x - L/2)*(x - L/2) + (y - L/2)*(y - L/2) )\n",
      "sig = np.fft.fftn(exp(-0.1*rr))\n",
      "\n",
      "xx = ([-L/4, L/2, -L/2,])\n",
      "yy = ([-L/8, -L/9, L/2])\n",
      "for i in range(3):\n",
      "    kdotr = kx*xx[i] + ky *yy[i]\n",
      "    sig = sig*exp(-1j*kdotr)\n",
      "    plotFirst(x, y, np.fft.ifftn(sig), i+1)"
     ],
     "language": "python",
     "metadata": {},
     "outputs": [
      {
       "metadata": {},
       "output_type": "display_data",
       "png": "[encoded data removed]",
       "text": [
        "<matplotlib.figure.Figure at 0x396bcd0>"
       ]
      }
     ],
     "prompt_number": 29
    },
    {
     "cell_type": "markdown",
     "metadata": {},
     "source": []
    },
    {
     "cell_type": "code",
     "collapsed": false,
     "input": [
      "\n"
     ],
     "language": "python",
     "metadata": {},
     "outputs": [],
     "prompt_number": 7
    },
    {
     "cell_type": "code",
     "collapsed": false,
     "input": [],
     "language": "python",
     "metadata": {},
     "outputs": [],
     "prompt_number": 7
    },
    {
     "cell_type": "code",
     "collapsed": false,
     "input": [],
     "language": "python",
     "metadata": {},
     "outputs": [],
     "prompt_number": 7
    },
    {
     "cell_type": "code",
     "collapsed": false,
     "input": [
      "np.allclose(range(5), np.arange(5))"
     ],
     "language": "python",
     "metadata": {},
     "outputs": [
      {
       "metadata": {},
       "output_type": "pyout",
       "prompt_number": 8,
       "text": [
        "True"
       ]
      }
     ],
     "prompt_number": 8
    },
    {
     "cell_type": "code",
     "collapsed": false,
     "input": [],
     "language": "python",
     "metadata": {},
     "outputs": [],
     "prompt_number": 8
    },
    {
     "cell_type": "code",
     "collapsed": false,
     "input": [],
     "language": "python",
     "metadata": {},
     "outputs": [],
     "prompt_number": 8
    },
    {
     "cell_type": "code",
     "collapsed": false,
     "input": [],
     "language": "python",
     "metadata": {},
     "outputs": [],
     "prompt_number": 8
    },
    {
     "cell_type": "code",
     "collapsed": false,
     "input": [],
     "language": "python",
     "metadata": {},
     "outputs": []
    }
   ],
   "metadata": {}
  }
 ]
}