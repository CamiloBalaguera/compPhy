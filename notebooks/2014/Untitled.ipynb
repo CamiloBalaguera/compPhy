{
 "cells": [
  {
   "cell_type": "code",
   "execution_count": 4,
   "metadata": {
    "collapsed": false
   },
   "outputs": [],
   "source": [
    "%load_ext Cython"
   ]
  },
  {
   "cell_type": "code",
   "execution_count": 21,
   "metadata": {
    "collapsed": false
   },
   "outputs": [],
   "source": [
    "%%cython\n",
    "# Basic cython class for calculating multiplication of two arrays.\n",
    "#     \n",
    "#             : This codes uses OpenMP multithreading\n",
    "#             : also it employs the concept of memory views \n",
    "#\n",
    "\n",
    "\n",
    "import  numpy as np\n",
    "cimport numpy as np\n",
    "cimport cython\n",
    "from libc.math cimport sqrt\n",
    "from cython.parallel import prange\n",
    "\n",
    "DTYPE   = np.float\n",
    "ctypedef np.float_t DTYPE_t\n",
    "\n",
    "@cython.wraparound(False)\n",
    "@cython.boundscheck(False)\n",
    "@cython.cdivision(True)\n",
    "@cython.nonecheck(False)\n",
    "cdef class cythontest:\n",
    "    cdef readonly np.ndarray A, B, C \n",
    "    cdef readonly int N\n",
    "       \n",
    "    def __init__(self, N):\n",
    "        self.N = N\n",
    "        self.C = np.empty(N, dtype=DTYPE)\n",
    "    \n",
    "    @cython.cdivision(True)\n",
    "    cpdef calcC(self, np.ndarray A, np.ndarray B, int iter):\n",
    "        cdef int N = self.N\n",
    "        cdef double [:] t1   = A \n",
    "        cdef double [:] t2   = B\n",
    "        print -128%128  \n",
    "            \n",
    "        cdef double [:] F   = self.C\n",
    "        cdef int i, j \n",
    "       \n",
    "        for i in prange(N, nogil=True):\n",
    "            for j in range(iter):            \n",
    "                F[i] = t1[i] * t2[i]                 \n",
    "        return "
   ]
  },
  {
   "cell_type": "code",
   "execution_count": null,
   "metadata": {
    "collapsed": false
   },
   "outputs": [],
   "source": [
    "N = 6000    # size of the array\n",
    "p = 1000    # number of iterations \n",
    "\n",
    "A = np.linspace(-10,10, N)\n",
    "B = np.linspace(-10,10, N)\n",
    "C = np.zeros(np.size(A))"
   ]
  },
  {
   "cell_type": "code",
   "execution_count": null,
   "metadata": {
    "collapsed": false
   },
   "outputs": [],
   "source": [
    "%%timeit\n",
    "for j in range(N):\n",
    "    for tn in range(p):\n",
    "        C[j] = A[j]*B[j] "
   ]
  },
  {
   "cell_type": "code",
   "execution_count": null,
   "metadata": {
    "collapsed": false
   },
   "outputs": [],
   "source": [
    "rm = cythontest(N)\n",
    "rm.calcC(A, B, p)\n",
    "np.allclose(C, rm.C)"
   ]
  },
  {
   "cell_type": "code",
   "execution_count": null,
   "metadata": {
    "collapsed": false
   },
   "outputs": [],
   "source": [
    "%%timeit\n",
    "rm = cythontest(N)\n",
    "rm.calcC(A, B, p)\n",
    "np.allclose(C, rm.C)"
   ]
  },
  {
   "cell_type": "code",
   "execution_count": 14,
   "metadata": {
    "collapsed": false
   },
   "outputs": [
    {
     "data": {
      "text/plain": [
       "-1.7217508452829056"
      ]
     },
     "execution_count": 14,
     "metadata": {},
     "output_type": "execute_result"
    }
   ],
   "source": [
    "import numpy as np\n",
    "np.random.standard_cauchy()"
   ]
  },
  {
   "cell_type": "code",
   "execution_count": 13,
   "metadata": {
    "collapsed": false
   },
   "outputs": [
    {
     "name": "stdout",
     "output_type": "stream",
     "text": [
      "Help on built-in function exponential:\n",
      "\n",
      "exponential(...)\n",
      "    exponential(scale=1.0, size=None)\n",
      "    \n",
      "    Draw samples from an exponential distribution.\n",
      "    \n",
      "    Its probability density function is\n",
      "    \n",
      "    .. math:: f(x; \\frac{1}{\\beta}) = \\frac{1}{\\beta} \\exp(-\\frac{x}{\\beta}),\n",
      "    \n",
      "    for ``x > 0`` and 0 elsewhere. :math:`\\beta` is the scale parameter,\n",
      "    which is the inverse of the rate parameter :math:`\\lambda = 1/\\beta`.\n",
      "    The rate parameter is an alternative, widely used parameterization\n",
      "    of the exponential distribution [3]_.\n",
      "    \n",
      "    The exponential distribution is a continuous analogue of the\n",
      "    geometric distribution.  It describes many common situations, such as\n",
      "    the size of raindrops measured over many rainstorms [1]_, or the time\n",
      "    between page requests to Wikipedia [2]_.\n",
      "    \n",
      "    Parameters\n",
      "    ----------\n",
      "    scale : float\n",
      "        The scale parameter, :math:`\\beta = 1/\\lambda`.\n",
      "    size : int or tuple of ints, optional\n",
      "        Output shape.  If the given shape is, e.g., ``(m, n, k)``, then\n",
      "        ``m * n * k`` samples are drawn.  Default is None, in which case a\n",
      "        single value is returned.\n",
      "    \n",
      "    References\n",
      "    ----------\n",
      "    .. [1] Peyton Z. Peebles Jr., \"Probability, Random Variables and\n",
      "           Random Signal Principles\", 4th ed, 2001, p. 57.\n",
      "    .. [2] \"Poisson Process\", Wikipedia,\n",
      "           http://en.wikipedia.org/wiki/Poisson_process\n",
      "    .. [3] \"Exponential Distribution, Wikipedia,\n",
      "           http://en.wikipedia.org/wiki/Exponential_distribution\n",
      "\n"
     ]
    }
   ],
   "source": [
    "help(np.random.exponential)"
   ]
  },
  {
   "cell_type": "code",
   "execution_count": null,
   "metadata": {
    "collapsed": true
   },
   "outputs": [],
   "source": []
  }
 ],
 "metadata": {
  "kernelspec": {
   "display_name": "Python [Root]",
   "language": "python",
   "name": "Python [Root]"
  },
  "language_info": {
   "codemirror_mode": {
    "name": "ipython",
    "version": 2
   },
   "file_extension": ".py",
   "mimetype": "text/x-python",
   "name": "python",
   "nbconvert_exporter": "python",
   "pygments_lexer": "ipython2",
   "version": "2.7.12"
  }
 },
 "nbformat": 4,
 "nbformat_minor": 0
}
