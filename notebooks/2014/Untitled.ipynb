{
 "cells": [
  {
   "cell_type": "code",
   "execution_count": 4,
   "metadata": {
    "collapsed": false
   },
   "outputs": [],
   "source": [
    "%load_ext Cython"
   ]
  },
  {
   "cell_type": "code",
   "execution_count": 21,
   "metadata": {
    "collapsed": false
   },
   "outputs": [],
   "source": [
    "%%cython\n",
    "# Basic cython class for calculating multiplication of two arrays.\n",
    "#     \n",
    "#             : This codes uses OpenMP multithreading\n",
    "#             : also it employs the concept of memory views \n",
    "#\n",
    "\n",
    "\n",
    "import  numpy as np\n",
    "cimport numpy as np\n",
    "cimport cython\n",
    "from libc.math cimport sqrt\n",
    "from cython.parallel import prange\n",
    "\n",
    "DTYPE   = np.float\n",
    "ctypedef np.float_t DTYPE_t\n",
    "\n",
    "@cython.wraparound(False)\n",
    "@cython.boundscheck(False)\n",
    "@cython.cdivision(True)\n",
    "@cython.nonecheck(False)\n",
    "cdef class cythontest:\n",
    "    cdef readonly np.ndarray A, B, C \n",
    "    cdef readonly int N\n",
    "       \n",
    "    def __init__(self, N):\n",
    "        self.N = N\n",
    "        self.C = np.empty(N, dtype=DTYPE)\n",
    "    \n",
    "    @cython.cdivision(True)\n",
    "    cpdef calcC(self, np.ndarray A, np.ndarray B, int iter):\n",
    "        cdef int N = self.N\n",
    "        cdef double [:] t1   = A \n",
    "        cdef double [:] t2   = B\n",
    "        print -128%128  \n",
    "            \n",
    "        cdef double [:] F   = self.C\n",
    "        cdef int i, j \n",
    "       \n",
    "        for i in prange(N, nogil=True):\n",
    "            for j in range(iter):            \n",
    "                F[i] = t1[i] * t2[i]                 \n",
    "        return "
   ]
  },
  {
   "cell_type": "code",
   "execution_count": null,
   "metadata": {
    "collapsed": false
   },
   "outputs": [],
   "source": [
    "N = 6000    # size of the array\n",
    "p = 1000    # number of iterations \n",
    "\n",
    "A = np.linspace(-10,10, N)\n",
    "B = np.linspace(-10,10, N)\n",
    "C = np.zeros(np.size(A))"
   ]
  },
  {
   "cell_type": "code",
   "execution_count": null,
   "metadata": {
    "collapsed": false
   },
   "outputs": [],
   "source": [
    "%%timeit\n",
    "for j in range(N):\n",
    "    for tn in range(p):\n",
    "        C[j] = A[j]*B[j] "
   ]
  },
  {
   "cell_type": "code",
   "execution_count": null,
   "metadata": {
    "collapsed": false
   },
   "outputs": [],
   "source": [
    "rm = cythontest(N)\n",
    "rm.calcC(A, B, p)\n",
    "np.allclose(C, rm.C)"
   ]
  },
  {
   "cell_type": "code",
   "execution_count": null,
   "metadata": {
    "collapsed": false
   },
   "outputs": [],
   "source": [
    "%%timeit\n",
    "rm = cythontest(N)\n",
    "rm.calcC(A, B, p)\n",
    "np.allclose(C, rm.C)"
   ]
  },
  {
   "cell_type": "code",
   "execution_count": null,
   "metadata": {
    "collapsed": true
   },
   "outputs": [],
   "source": []
  }
 ],
 "metadata": {
  "kernelspec": {
   "display_name": "Python [Root]",
   "language": "python",
   "name": "Python [Root]"
  },
  "language_info": {
   "codemirror_mode": {
    "name": "ipython",
    "version": 2
   },
   "file_extension": ".py",
   "mimetype": "text/x-python",
   "name": "python",
   "nbconvert_exporter": "python",
   "pygments_lexer": "ipython2",
   "version": "2.7.12"
  }
 },
 "nbformat": 4,
 "nbformat_minor": 0
}
