{
 "cells": [
  {
   "cell_type": "markdown",
   "metadata": {},
   "source": [
    "## [ASEP](http://rajeshrinet.github.io/blog/2014/asep/)\n",
    "Asymmetric simple exclusion processes (ASEP) are stochastic lattice models of particles entering, hopping and leaving the lattice, with hard core interaction between them. "
   ]
  },
  {
   "cell_type": "markdown",
   "metadata": {},
   "source": [
    "## [Central limit theorem](http://rajeshrinet.github.io/blog/2014/central-limit-theorem/)\n",
    "Central limit theorem states that sum of independent and identically distributed random numbers approach a Gaussian distribution. "
   ]
  },
  {
   "cell_type": "markdown",
   "metadata": {},
   "source": [
    "## [Cython](http://rajeshrinet.github.io/blog/2014/cython/)\n",
    "Cython is an attempt to make a superset of python which has the high level coolness of python along with the speed of C. "
   ]
  },
  {
   "cell_type": "markdown",
   "metadata": {},
   "source": [
    "## [Data analysis](http://rajeshrinet.github.io/blog/2014/data-analysis/)\n",
    "Some basic data analysis using python has been discussed here. \n"
   ]
  },
  {
   "cell_type": "markdown",
   "metadata": {},
   "source": [
    "## [Ising model](http://rajeshrinet.github.io/blog/2014/ising-model/)\n",
    "Here, Ising model is simulated using Monte Carlo algorithm. Also, discussed is the corresponding hydrodynamic model. "
   ]
  },
  {
   "cell_type": "markdown",
   "metadata": {},
   "source": [
    "## [ODEs](http://rajeshrinet.github.io/blog/2014/odes/)\n",
    "Some techniques to solve ordinary differential equations in python. "
   ]
  },
  {
   "cell_type": "markdown",
   "metadata": {},
   "source": [
    "## [PDEs](http://rajeshrinet.github.io/blog/2014/pdes/)\n",
    "Solving partial differential equations in python. "
   ]
  },
  {
   "cell_type": "markdown",
   "metadata": {},
   "source": [
    "## [Plotting in python](http://rajeshrinet.github.io/blog/2014/numpy-matplotlib/)\n",
    "Here, we discuss some basic plotting using matplotlib. "
   ]
  },
  {
   "cell_type": "markdown",
   "metadata": {},
   "source": [
    "## [Notes](https://rajeshrinet.github.io/blog/notes)\n",
    "My older notes on statistical physics"
   ]
  },
  {
   "cell_type": "markdown",
   "metadata": {},
   "source": [
    "$$\n",
    "$$\n",
    "\n",
    "\n",
    "The contents of the blog have been written in IPython notebooks. The notebooks can be accessed [here](https://github.com/rajeshrinet/compPhy/tree/master/codes/IPythonNotebooks). \n",
    "\n",
    "The statically viewed notebooks can be found [here](http://nbviewer.ipython.org/github/rajeshrinet/compPhy/tree/master/codes/IPythonNotebooks/).  "
   ]
  }
 ],
 "metadata": {
  "kernelspec": {
   "display_name": "Python 2",
   "language": "python",
   "name": "python2"
  },
  "language_info": {
   "codemirror_mode": {
    "name": "ipython",
    "version": 2
   },
   "file_extension": ".py",
   "mimetype": "text/x-python",
   "name": "python",
   "nbconvert_exporter": "python",
   "pygments_lexer": "ipython2",
   "version": "2.7.12"
  }
 },
 "nbformat": 4,
 "nbformat_minor": 0
}
