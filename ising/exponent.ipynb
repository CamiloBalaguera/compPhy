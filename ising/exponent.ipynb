{
 "cells": [
  {
   "cell_type": "code",
   "execution_count": 1,
   "metadata": {},
   "outputs": [],
   "source": [
    "%matplotlib inline\n",
    "import numpy as np\n",
    "import ising\n",
    "import matplotlib.pyplot as plt"
   ]
  },
  {
   "cell_type": "code",
   "execution_count": 2,
   "metadata": {},
   "outputs": [],
   "source": [
    "N, NP       = 64, 32\n",
    "eqSteps, mcSteps = 8000, 8000\n",
    "\n",
    "\n",
    "Temperature   = np.zeros((NP), dtype=np.float64)\n",
    "Energy        = np.zeros((NP), dtype=np.float64)\n",
    "Magnetization = np.zeros((NP), dtype=np.float64)\n",
    "SpecificHeat  = np.zeros((NP), dtype=np.float64)\n",
    "Suseptibility = np.zeros((NP), dtype=np.float64)\n",
    "Spin          = np.zeros((N+2,N+2), dtype=np.int32  )\n",
    "\n",
    "#Temperature \n",
    "tc=2.2691\n",
    "Temperature = np.linspace(tc-1, tc+1, NP)\n",
    "Beta = 1.0/Temperature   # set k_B = 1\n",
    "\n",
    "#instantiate the class Ising model\n",
    "Ising = ising.Ising(N, NP, eqSteps, mcSteps)\n",
    "\n",
    "Ising.twoD(Spin, Energy, Magnetization, SpecificHeat, Suseptibility, Beta)"
   ]
  },
  {
   "cell_type": "code",
   "execution_count": 3,
   "metadata": {},
   "outputs": [
    {
     "data": {
      "text/plain": [
       "[<matplotlib.lines.Line2D at 0x1126ca978>]"
      ]
     },
     "execution_count": 3,
     "metadata": {},
     "output_type": "execute_result"
    },
    {
     "data": {
      "image/png": "[encoded data removed]",
      "text/plain": [
       "<Figure size 432x288 with 1 Axes>"
      ]
     },
     "metadata": {
      "needs_background": "light"
     },
     "output_type": "display_data"
    }
   ],
   "source": [
    "plt.plot(Temperature, abs(Magnetization), \"o\")"
   ]
  },
  {
   "cell_type": "markdown",
   "metadata": {},
   "source": [
    "## Exponent"
   ]
  },
  {
   "cell_type": "code",
   "execution_count": 4,
   "metadata": {},
   "outputs": [],
   "source": [
    "N, NP       = 10, 10\n",
    "eqSteps, mcSteps = 6000, 8000\n",
    "\n",
    "\n",
    "Temperature   = np.zeros((NP), dtype=np.float64)\n",
    "Energy        = np.zeros((NP), dtype=np.float64)\n",
    "Magnetization = np.zeros((NP), dtype=np.float64)\n",
    "SpecificHeat  = np.zeros((NP), dtype=np.float64)\n",
    "Suseptibility = np.zeros((NP), dtype=np.float64)\n",
    "Spin          = np.zeros((N+2,N+2), dtype=np.int32  )\n",
    "\n",
    "#Temperature \n",
    "tc=2.2691\n",
    "Temperature = np.linspace(tc+0.1, tc+1.8, NP)\n",
    "Beta = 1.0/Temperature   # set k_B = 1\n",
    "\n",
    "#instantiate the class Ising model\n",
    "Ising = ising.Ising(N, NP, eqSteps, mcSteps)\n",
    "\n",
    "Ising.twoD(Spin, Energy, Magnetization, SpecificHeat, Suseptibility, Beta)"
   ]
  },
  {
   "cell_type": "code",
   "execution_count": 5,
   "metadata": {},
   "outputs": [
    {
     "name": "stdout",
     "output_type": "stream",
     "text": [
      "sim = 1.1345995836156566 \t analytical = 1\n"
     ]
    },
    {
     "data": {
      "image/png": "[encoded data removed]",
      "text/plain": [
       "<Figure size 432x288 with 1 Axes>"
      ]
     },
     "metadata": {
      "needs_background": "light"
     },
     "output_type": "display_data"
    }
   ],
   "source": [
    "## plot the susceptibility and exponent\n",
    "eps=1e-19\n",
    "xx=abs(Temperature-tc)+eps\n",
    "yy=abs(Suseptibility)+eps\n",
    "\n",
    "\n",
    "coefficients = np.polyfit(np.log(xx), np.log(yy), 1)\n",
    "polynomial = np.poly1d(coefficients)\n",
    "ys = polynomial(np.log(xx))\n",
    "plt.plot(np.log(xx), ys, '-', lw=5,  color=\"#348ABD\", label='best linear fit ')\n",
    "plt.plot(np.log(xx), np.log(yy), '*', color=\"IndianRed\", ms=12, label='Magnetization');\n",
    "\n",
    "\n",
    "print(\"sim =\", abs(coefficients[0]), \"\\t\", \"analytical = 1\")"
   ]
  }
 ],
 "metadata": {
  "kernelspec": {
   "display_name": "Python 3",
   "language": "python",
   "name": "python3"
  },
  "language_info": {
   "codemirror_mode": {
    "name": "ipython",
    "version": 3
   },
   "file_extension": ".py",
   "mimetype": "text/x-python",
   "name": "python",
   "nbconvert_exporter": "python",
   "pygments_lexer": "ipython3",
   "version": "3.7.3"
  }
 },
 "nbformat": 4,
 "nbformat_minor": 2
}
