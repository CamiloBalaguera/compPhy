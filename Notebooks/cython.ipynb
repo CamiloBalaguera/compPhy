{
 "metadata": {
  "name": ""
 },
 "nbformat": 3,
 "nbformat_minor": 0,
 "worksheets": [
  {
   "cells": [
    {
     "cell_type": "markdown",
     "metadata": {},
     "source": [
      "## Python \n",
      "\n",
      "* High level language \n",
      "* Free and open source\n",
      "* Interactive environment\n",
      "* has a big scientific community using it...\n",
      "* Python is object-oriented\n",
      "* Python is interpreted\n",
      "* There are modules for almost anything in [scientific computation](http://www.scipy.org/)\n",
      "\n",
      "#### Problems\n",
      "\n",
      "\n",
      "* Python is interpreted\n",
      "* Dictionary lookups\n",
      "* function calling overheads\n",
      "* **[GIL](http://www.jeffknupp.com/blog/2012/03/31/pythons-hardest-problem/)** - global interpreter lock"
     ]
    },
    {
     "cell_type": "markdown",
     "metadata": {},
     "source": [
      "## Cython\n",
      "Cython is an attempt to make a superset of python which has the high level coolness of python along with the speed of C. This is achieved because \n",
      "\n",
      "* Cython is compiled\n",
      "* Cython has cdef variables, attributes, functions\n",
      "* Cython supports parallelism (openMP) by opening GIL. \n",
      "\n",
      "Cython is thus a python like language which can be used to do the heavy-liftings in the code. From the cython '.pyx' file a highly optimised C code is generated internally. Cython, as we will see, has support for numpy. Almost all the python codes can be taken to cython. Moreover, with a little work it can be made order of magnitude faster!\n",
      "\n",
      "Below are the steps involves in building a cython code\n",
      "\n",
      "* A .pyx file is compiled by cython to .c \n",
      "* The .c file is then compiled by the C compiler.\n",
      "* One needs to build the cython file  using setup.py. More [here](http://docs.cython.org/src/quickstart/build.html).\n",
      "\n",
      "\n"
     ]
    },
    {
     "cell_type": "code",
     "collapsed": false,
     "input": [
      "from IPython.display import HTML\n",
      "HTML('<iframe src=http://research.google.com/pubs/pub36727.html  width=1000 height=750></iframe>')"
     ],
     "language": "python",
     "metadata": {},
     "outputs": [
      {
       "html": [
        "<iframe src=http://research.google.com/pubs/pub36727.html  width=1000 height=750></iframe>"
       ],
       "metadata": {},
       "output_type": "pyout",
       "prompt_number": 3,
       "text": [
        "<IPython.core.display.HTML at 0x35b9dd0>"
       ]
      }
     ],
     "prompt_number": 3
    },
    {
     "cell_type": "markdown",
     "metadata": {},
     "source": [
      "### Multiplication of two one dimensional arrays in python, Cython and C"
     ]
    },
    {
     "cell_type": "code",
     "collapsed": false,
     "input": [
      "N = 6000    # size of the array\n",
      "p = 1000    # number of iterations \n",
      "\n",
      "A = np.linspace(-10,10, N)\n",
      "B = np.linspace(-10,10, N)\n",
      "C = np.zeros( size(A))\n"
     ],
     "language": "python",
     "metadata": {},
     "outputs": [],
     "prompt_number": 4
    },
    {
     "cell_type": "code",
     "collapsed": false,
     "input": [
      "%%timeit\n",
      "for j in range(N):\n",
      "    for tn in range(p):\n",
      "        C[j] = A[j]*B[j] "
     ],
     "language": "python",
     "metadata": {},
     "outputs": [
      {
       "output_type": "stream",
       "stream": "stdout",
       "text": [
        "1 loops, best of 3: 2.93 s per loop\n"
       ]
      }
     ],
     "prompt_number": 5
    },
    {
     "cell_type": "code",
     "collapsed": false,
     "input": [
      "%load_ext cythonmagic"
     ],
     "language": "python",
     "metadata": {},
     "outputs": [],
     "prompt_number": 6
    },
    {
     "cell_type": "code",
     "collapsed": false,
     "input": [
      "%%cython\n",
      "# Basic cython class for calculating multiplication of two arrays.\n",
      "#     \n",
      "#             : This codes uses OpenMP multithreading\n",
      "#             : also it employs the concept of memory views \n",
      "#\n",
      "\n",
      "\n",
      "import  numpy as np\n",
      "cimport numpy as np\n",
      "cimport cython\n",
      "from libc.math cimport sqrt\n",
      "from cython.parallel import prange\n",
      "\n",
      "DTYPE   = np.float\n",
      "ctypedef np.float_t DTYPE_t\n",
      "\n",
      "@cython.wraparound(False)\n",
      "@cython.boundscheck(False)\n",
      "@cython.cdivision(True)\n",
      "cdef class cythontest:\n",
      "    cdef readonly np.ndarray A, B, C \n",
      "    cdef readonly int Nint, someN\n",
      "       \n",
      "    def __init__(self, Nint):\n",
      "\n",
      "        self.someN = Nint\n",
      "        self.C   = np.empty(Nint, dtype=DTYPE)\n",
      "    \n",
      "    \n",
      "    cpdef calcC(self, np.ndarray A, np.ndarray B, int iter):\n",
      "        cdef int N = self.someN\n",
      "        cdef double [:] t1   = A \n",
      "        cdef double [:] t2   = B\n",
      "        \n",
      "        \n",
      "        cdef double [:] F   = self.C\n",
      "        cdef int i, j \n",
      "    \n",
      "    \n",
      "        for i in prange(N, nogil=True):\n",
      "            for j in range(iter):            \n",
      "                F[i] = t1[i] * t2[i] \n",
      "                     \n",
      "        return "
     ],
     "language": "python",
     "metadata": {},
     "outputs": [],
     "prompt_number": 7
    },
    {
     "cell_type": "code",
     "collapsed": false,
     "input": [
      "%%timeit\n",
      "rm = cythontest(N)\n",
      "rm.calcC(A, B, p)"
     ],
     "language": "python",
     "metadata": {},
     "outputs": [
      {
       "output_type": "stream",
       "stream": "stdout",
       "text": [
        "100 loops, best of 3: 3.33 ms per loop\n"
       ]
      }
     ],
     "prompt_number": 8
    },
    {
     "cell_type": "markdown",
     "metadata": {},
     "source": [
      "Thus it can be seen that merely by writing the code in Cython we see a order of magnitude difference in the speed. Honestly speaking, the code in python has been written terribly to show the speed difference. A vectorised code in python will also be very fast. I leave it for the readers to check! Corresponding codes can be accessed [here](https://github.com/rajeshrinet/compPhy/tree/master/Notebooks/codes/cython/prange-test). Moreover, we wrote the same thing in pure C and, to our amazement, cython is as fast as the C code! "
     ]
    },
    {
     "cell_type": "markdown",
     "metadata": {},
     "source": [
      "## C-Cython interface"
     ]
    },
    {
     "cell_type": "markdown",
     "metadata": {},
     "source": [
      "One can write the crtitical part of the codes in C/C++ and then use cython to do the wrapping. Numpy arrays can be passed as can be seen in the [codes](https://github.com/rajeshrinet/compPhy/tree/master/Notebooks/codes/cython/ccy).\n",
      "\n",
      "\n",
      "Cython does some optimisation to the codes internally and hence a raw C code with not much optimisation may be beaten by cython in the best case. In some cases, though, we may need to write some performance critical part of the code in C/C++. Cython comes very handy in this case as well to act as an inerface between python and C. So our code has three layers now. The uppermost layer is in python which is extremely human readable and third layer is C while Cython is the sandwiched layer 2 between them. We will see this in the next section. This is recommended as lots of people have acknowledged that python enevironment increases their productivity given the amount of time taken in writing and debugging is very small in python. Also, personally, I believe that writing code in high level language like python is fun - u can import almost anything and do what you want! \n",
      "\n",
      "One can also wrap C++ classes in Cython. Look [here](http://cython.readthedocs.org/en/latest/src/userguide/wrapping_CPlusPlus.html)."
     ]
    },
    {
     "cell_type": "markdown",
     "metadata": {},
     "source": [
      "#### Conclusions:\n",
      "\n",
      "\n",
      "* [An Optimization Anecdote by BDFL.](https://www.python.org/doc/essays/list2str/). \n",
      "\n",
      "\n",
      "* Premature optimization is the root of all evil: Donald Knuth\n",
      "\n",
      "\n",
      "* Make It Work \n",
      "\n",
      "    *  Make It Right \n",
      "\n",
      "        * Make It Fast -- Kent Back"
     ]
    }
   ],
   "metadata": {}
  }
 ]
}