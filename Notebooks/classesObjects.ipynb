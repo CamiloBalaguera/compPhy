{
 "metadata": {
  "name": ""
 },
 "nbformat": 3,
 "nbformat_minor": 0,
 "worksheets": [
  {
   "cells": [
    {
     "cell_type": "markdown",
     "metadata": {},
     "source": [
      "## 1. Modules \n",
      "\n",
      "* Modules - what are they? \n",
      "\n",
      "    * It is a python file with some functions or variables inside it.\n",
      "    \n",
      "    * Import that module. Use these fuctions in that module with the '.' (dot) operator.\n",
      "    "
     ]
    },
    {
     "cell_type": "markdown",
     "metadata": {},
     "source": [
      "       # Now an Example"
     ]
    },
    {
     "cell_type": "code",
     "collapsed": false,
     "input": [
      "ls;"
     ],
     "language": "python",
     "metadata": {},
     "outputs": [
      {
       "output_type": "stream",
       "stream": "stdout",
       "text": [
        "classtest.py             random_walker.py\r\n",
        "classtest.pyc            stable_distribution.py\r\n",
        "filereading_writting.py  test.py\r\n",
        "funcnCall.py             Tutorial #2.ipynb\r\n",
        "function_call.py         tutorial#3 Module, Class and Objects.ipynb\r\n",
        "function_call.pyc        Tutorial #3 modules and Stable Distributions.ipynb\r\n",
        "python_tutorial.pdf      Tutorial #4 Modules and Isings.ipynb\r\n"
       ]
      }
     ],
     "prompt_number": 1
    },
    {
     "cell_type": "code",
     "collapsed": false,
     "input": [
      "cat function_call.py"
     ],
     "language": "python",
     "metadata": {},
     "outputs": [
      {
       "output_type": "stream",
       "stream": "stdout",
       "text": [
        "import numpy as np \r\n",
        "\r\n",
        "def addition(a,b):\r\n",
        "    return a+b\r\n",
        "\r\n",
        "def subtraction(a,b):\r\n",
        "    return a-b\r\n",
        "\r\n",
        "def cube(a):\r\n",
        "    return a**3\r\n"
       ]
      }
     ],
     "prompt_number": 2
    },
    {
     "cell_type": "code",
     "collapsed": false,
     "input": [
      "from function_call import addition"
     ],
     "language": "python",
     "metadata": {},
     "outputs": [],
     "prompt_number": 3
    },
    {
     "cell_type": "code",
     "collapsed": false,
     "input": [
      "addition(12,13)"
     ],
     "language": "python",
     "metadata": {},
     "outputs": [
      {
       "metadata": {},
       "output_type": "pyout",
       "prompt_number": 4,
       "text": [
        "25"
       ]
      }
     ],
     "prompt_number": 4
    },
    {
     "cell_type": "code",
     "collapsed": false,
     "input": [
      "import function_call as bo\n",
      "print 'Give me a number'\n",
      "a = input()\n",
      "print 'Give me another number'\n",
      "b = input()\n",
      "\n",
      "print 'Sum of the numbers'\n",
      "print bo.addition(a,b)\n",
      "\n",
      "print 'a-b is'\n",
      "print bo.subtraction(a,b)"
     ],
     "language": "python",
     "metadata": {},
     "outputs": [
      {
       "output_type": "stream",
       "stream": "stdout",
       "text": [
        "Give me a number\n"
       ]
      },
      {
       "name": "stdout",
       "output_type": "stream",
       "stream": "stdout",
       "text": [
        "34\n"
       ]
      },
      {
       "output_type": "stream",
       "stream": "stdout",
       "text": [
        "Give me another number\n"
       ]
      },
      {
       "name": "stdout",
       "output_type": "stream",
       "stream": "stdout",
       "text": [
        "56\n"
       ]
      },
      {
       "output_type": "stream",
       "stream": "stdout",
       "text": [
        "Sum of the numbers\n",
        "90\n",
        "a-b is\n",
        "-22\n"
       ]
      }
     ],
     "prompt_number": 6
    },
    {
     "cell_type": "markdown",
     "metadata": {},
     "source": [
      "### From where module can be imported"
     ]
    },
    {
     "cell_type": "markdown",
     "metadata": {},
     "source": [
      "   ## from same folder or mother folder\n",
      "        from . import echo\n",
      "        from .. import formats\n",
      "        from ..filters import equalizer\n",
      "        \n",
      "   ## Particular directory\n",
      "        import sys\n",
      "        sys.path.append(\"complete path\")\n",
      "        \n",
      "   ## Other opinion\n",
      "        * Set PYTHONPATH to your lib\n",
      "        \n",
      "        from os.path import dirname, realpath, sep, pardir\n",
      "        import sys\n",
      "        sys.path.append(dirname(realpath(__file__)) + sep + pardir + sep + \"lib\")\n",
      "        \n",
      "        \n",
      "        import os, sys\n",
      "        sys.path.append(os.path.join(os.path.dirname(__file__), \"lib\"))\n",
      "        \n",
      "        "
     ]
    },
    {
     "cell_type": "code",
     "collapsed": false,
     "input": [
      "# First example on Class\n",
      "class MyClass(object):\n",
      "    \"Optional Document String\"\n",
      "    # class variable\n",
      "    i = 12345\n",
      "    # Function inside a class \n",
      "    def f(self,j):\n",
      "        return j"
     ],
     "language": "python",
     "metadata": {},
     "outputs": [],
     "prompt_number": 7
    },
    {
     "cell_type": "code",
     "collapsed": false,
     "input": [
      "a = MyClass();\n",
      "b = MyClass();"
     ],
     "language": "python",
     "metadata": {},
     "outputs": [],
     "prompt_number": 8
    },
    {
     "cell_type": "code",
     "collapsed": false,
     "input": [
      "a.f(10); b.f(19)"
     ],
     "language": "python",
     "metadata": {},
     "outputs": [
      {
       "metadata": {},
       "output_type": "pyout",
       "prompt_number": 10,
       "text": [
        "19"
       ]
      }
     ],
     "prompt_number": 10
    },
    {
     "cell_type": "code",
     "collapsed": false,
     "input": [
      "# Second example on class\n",
      "from __future__ import division\n",
      "import numpy as np\n",
      "\n",
      "class ComplexNumber:\n",
      "    # Count a varible will be there for all instances\n",
      "    Count = 0\n",
      "    def __init__(self, realpart, imagpart):\n",
      "        self.r = realpart\n",
      "        self.i = imagpart\n",
      "        ComplexNumber.Count += 1\n",
      "    \n",
      "    def modulus(self):\n",
      "        return np.sqrt(self.r*self.r + self.i*self.i)\n",
      "    \n",
      "    def modulus2(self):\n",
      "        return self.modulus()*self.modulus()\n",
      "    \n",
      "    def tangent(self):\n",
      "        return self.r/self.i\n",
      "    \n",
      "    def factorial(self):\n",
      "        m = 1\n",
      "        for i in range(1,10):\n",
      "            m = m*i\n",
      "            print m\n",
      "        return m\n",
      "    "
     ],
     "language": "python",
     "metadata": {},
     "outputs": [],
     "prompt_number": 8
    },
    {
     "cell_type": "code",
     "collapsed": false,
     "input": [
      "c = ComplexNumber(2,3) # instance"
     ],
     "language": "python",
     "metadata": {},
     "outputs": [],
     "prompt_number": 9
    },
    {
     "cell_type": "code",
     "collapsed": false,
     "input": [
      "c.modulus2() # methods"
     ],
     "language": "python",
     "metadata": {},
     "outputs": [
      {
       "metadata": {},
       "output_type": "pyout",
       "prompt_number": 10,
       "text": [
        "12.999999999999998"
       ]
      }
     ],
     "prompt_number": 10
    },
    {
     "cell_type": "code",
     "collapsed": false,
     "input": [
      "c.factorial()"
     ],
     "language": "python",
     "metadata": {},
     "outputs": [
      {
       "output_type": "stream",
       "stream": "stdout",
       "text": [
        "1\n",
        "2\n",
        "6\n",
        "24\n",
        "120\n",
        "720\n",
        "5040\n",
        "40320\n",
        "362880\n"
       ]
      },
      {
       "metadata": {},
       "output_type": "pyout",
       "prompt_number": 12,
       "text": [
        "362880"
       ]
      }
     ],
     "prompt_number": 12
    },
    {
     "cell_type": "code",
     "collapsed": false,
     "input": [
      "# Second example on class\n",
      "from __future__ import division\n",
      "import numpy as np\n",
      "\n",
      "class ComplexNumber(Others):\n",
      "    # Count a varible will be there for all instances\n",
      "    Count = 0\n",
      "    def __init__(self, realpart, imagpart):\n",
      "        self.r = realpart\n",
      "        self.i = imagpart\n",
      "        ComplexNumber.Count += 1\n",
      "    \n",
      "    def modulus(self):\n",
      "        return np.sqrt(self.r*self.r + self.i*self.i)\n",
      "    \n",
      "    def modulus2(self):\n",
      "        return self.modulus()*self.modulus()\n",
      "    \n",
      "    def tangent(self):\n",
      "        return self.r/self.i\n",
      "    \n",
      "class Others():\n",
      "    \n",
      "    def factorial(self,n):\n",
      "        for i in range(1,10):\n",
      "            n = n*i\n",
      "            print n\n",
      "        return n\n",
      "    \n",
      "class more:\n",
      "    pass"
     ],
     "language": "python",
     "metadata": {},
     "outputs": [],
     "prompt_number": 15
    },
    {
     "cell_type": "code",
     "collapsed": false,
     "input": [
      "d =ComplexNumber(2,3)"
     ],
     "language": "python",
     "metadata": {},
     "outputs": [],
     "prompt_number": 16
    },
    {
     "cell_type": "code",
     "collapsed": false,
     "input": [
      "d."
     ],
     "language": "python",
     "metadata": {},
     "outputs": [
      {
       "output_type": "stream",
       "stream": "stdout",
       "text": [
        "2\n",
        "4\n",
        "12\n",
        "48\n",
        "240\n",
        "1440\n",
        "10080\n",
        "80640\n",
        "725760\n"
       ]
      },
      {
       "metadata": {},
       "output_type": "pyout",
       "prompt_number": 86,
       "text": [
        "725760"
       ]
      }
     ],
     "prompt_number": 86
    },
    {
     "cell_type": "markdown",
     "metadata": {},
     "source": [
      "### Inheritence"
     ]
    },
    {
     "cell_type": "markdown",
     "metadata": {},
     "source": [
      "### Overriding Methods"
     ]
    },
    {
     "cell_type": "code",
     "collapsed": false,
     "input": [
      "#!/usr/bin/python\n",
      "\n",
      "class Parent:        # define parent class\n",
      "   def myMethod(self):\n",
      "        r = 34\n",
      "        print r\n",
      "\n",
      "class Child(Parent): # define child class\n",
      "   def myMethod(self):\n",
      "      print 'No r is too small \\n',\n",
      "      r =340\n",
      "      print r\n",
      "     "
     ],
     "language": "python",
     "metadata": {},
     "outputs": [],
     "prompt_number": 19
    },
    {
     "cell_type": "code",
     "collapsed": false,
     "input": [
      "c = Child()          # instance of child\n",
      "c.myMethod()"
     ],
     "language": "python",
     "metadata": {},
     "outputs": [
      {
       "output_type": "stream",
       "stream": "stdout",
       "text": [
        "No r is too small \n",
        "340\n"
       ]
      }
     ],
     "prompt_number": 20
    },
    {
     "cell_type": "markdown",
     "metadata": {},
     "source": [
      "## Multiple inheritence and use of super"
     ]
    },
    {
     "cell_type": "code",
     "collapsed": false,
     "input": [
      "class Parent(object):\n",
      "\n",
      "    def override(self):\n",
      "        print \"PARENT override()\"\n",
      "\n",
      "    def implicit(self):\n",
      "        print \"PARENT implicit()\"\n",
      "\n",
      "    def altered(self):\n",
      "        t=90\n",
      "        print t\n",
      "\n",
      "class Child(Parent):\n",
      "\n",
      "    def override(self):\n",
      "        print \"CHILD override()\"\n",
      "\n",
      "    def altered(self):\n",
      "        t =100\n",
      "        super(Child, self).altered()\n",
      "        print t\n",
      "\n",
      "dad = Parent()\n",
      "son = Child()\n",
      "\n",
      "dad.implicit()\n",
      "son.implicit()\n",
      "\n",
      "dad.override()\n",
      "son.override()\n",
      "\n",
      "dad.altered()\n",
      "son.altered()"
     ],
     "language": "python",
     "metadata": {},
     "outputs": [
      {
       "output_type": "stream",
       "stream": "stdout",
       "text": [
        "PARENT implicit()\n",
        "PARENT implicit()\n",
        "PARENT override()\n",
        "CHILD override()\n",
        "90\n",
        "90\n",
        "100\n"
       ]
      }
     ],
     "prompt_number": 21
    },
    {
     "cell_type": "code",
     "collapsed": false,
     "input": [
      "son.altered()"
     ],
     "language": "python",
     "metadata": {},
     "outputs": [
      {
       "output_type": "stream",
       "stream": "stdout",
       "text": [
        "90\n",
        "100\n"
       ]
      }
     ],
     "prompt_number": 107
    },
    {
     "cell_type": "markdown",
     "metadata": {},
     "source": [
      "## From http://learnpythonthehardway.org/book/ex44.html\n",
      "\n",
      "Using super() with __init__\n",
      "The most common use of super() is actually in __init__ functions in base classes. This is usually the only place where you need to do some things in a child, then complete the initialization in the parent. Here's a quick example of doing that in the Child from these examples:\n",
      "\n",
      "class Child(Parent):\n",
      "\n",
      "    def __init__(self, stuff):\n",
      "        self.stuff = stuff\n",
      "        super(Child, self).__init__()\n",
      "This is pretty much the same as the Child.altered example above, except I'm setting some variables in the __init__ before having the Parent initialize with its Parent.__init__."
     ]
    },
    {
     "cell_type": "code",
     "collapsed": false,
     "input": [
      "class Base(object):\n",
      "    def __init__(self):\n",
      "        self.t =34\n",
      "        print \"Base created\"\n",
      "\n",
      "class ChildA(Base):\n",
      "    def __init__(self):\n",
      "        Base.__init__(self)\n",
      "\n",
      "class ChildB(Base):\n",
      "    def __init__(self):\n",
      "        self.ty =23\n",
      "        super(ChildB, self).__init__()"
     ],
     "language": "python",
     "metadata": {},
     "outputs": [],
     "prompt_number": 23
    },
    {
     "cell_type": "code",
     "collapsed": false,
     "input": [
      "B =ChildB()"
     ],
     "language": "python",
     "metadata": {},
     "outputs": [
      {
       "output_type": "stream",
       "stream": "stdout",
       "text": [
        "Base created\n"
       ]
      }
     ],
     "prompt_number": 24
    },
    {
     "cell_type": "code",
     "collapsed": false,
     "input": [
      "class father:\n",
      "    def __init__(self):\n",
      "        self.x =10\n",
      "        self.y =10\n",
      "        self.z =23\n",
      "        \n",
      "class child(father):\n",
      "    def __init__(self):\n",
      "        self.p=34\n",
      "        self.t=34\n",
      "        super(child, self).__init__()"
     ],
     "language": "python",
     "metadata": {},
     "outputs": [],
     "prompt_number": 25
    },
    {
     "cell_type": "code",
     "collapsed": false,
     "input": [
      "son = child()"
     ],
     "language": "python",
     "metadata": {},
     "outputs": [],
     "prompt_number": 26
    },
    {
     "cell_type": "code",
     "collapsed": false,
     "input": [],
     "language": "python",
     "metadata": {},
     "outputs": [
      {
       "output_type": "stream",
       "stream": "stdout",
       "text": [
        "Base created\n"
       ]
      }
     ],
     "prompt_number": 13
    },
    {
     "cell_type": "code",
     "collapsed": false,
     "input": [],
     "language": "python",
     "metadata": {},
     "outputs": [
      {
       "metadata": {},
       "output_type": "pyout",
       "prompt_number": 14,
       "text": [
        "23"
       ]
      }
     ],
     "prompt_number": 14
    },
    {
     "cell_type": "markdown",
     "metadata": {},
     "source": [
      "### destructor"
     ]
    },
    {
     "cell_type": "code",
     "collapsed": false,
     "input": [
      "# Destructor function\n",
      "#!/usr/bin/python\n",
      "\n",
      "class Point:\n",
      "   def __init( self, x=0, y=0):\n",
      "      self.x = x\n",
      "      self.y = y\n",
      "   def __del__(self):\n",
      "      class_name = self.__class__.__name__\n",
      "      print class_name, \"destroyed\"\n",
      "\n",
      "pt1 = Point()\n",
      "pt2 = pt1\n",
      "pt3 = pt1\n",
      "print id(pt1), id(pt2), id(pt3) # prints the ids of the obejcts\n",
      "del pt1\n",
      "del pt2\n",
      "#del pt3"
     ],
     "language": "python",
     "metadata": {},
     "outputs": [
      {
       "output_type": "stream",
       "stream": "stdout",
       "text": [
        "151294732 151294732 151294732\n"
       ]
      }
     ],
     "prompt_number": 36
    },
    {
     "cell_type": "code",
     "collapsed": false,
     "input": [
      "#!/usr/bin/python\n",
      "\n",
      "class JustCounter:\n",
      "   __secretCount = 0\n",
      "  \n",
      "   def count(self):\n",
      "      self.__secretCount += 1\n",
      "      print self.__secretCount\n",
      "\n",
      "counter = JustCounter()\n",
      "counter.count()\n",
      "counter.count()\n",
      "print counter.__secretCount"
     ],
     "language": "python",
     "metadata": {},
     "outputs": [
      {
       "ename": "AttributeError",
       "evalue": "JustCounter instance has no attribute '__secretCount'",
       "output_type": "pyerr",
       "traceback": [
        "\u001b[1;31m---------------------------------------------------------------------------\u001b[0m\n\u001b[1;31mAttributeError\u001b[0m                            Traceback (most recent call last)",
        "\u001b[1;32m<ipython-input-87-fbe65a1d64b2>\u001b[0m in \u001b[0;36m<module>\u001b[1;34m()\u001b[0m\n\u001b[0;32m     11\u001b[0m \u001b[0mcounter\u001b[0m\u001b[1;33m.\u001b[0m\u001b[0mcount\u001b[0m\u001b[1;33m(\u001b[0m\u001b[1;33m)\u001b[0m\u001b[1;33m\u001b[0m\u001b[0m\n\u001b[0;32m     12\u001b[0m \u001b[0mcounter\u001b[0m\u001b[1;33m.\u001b[0m\u001b[0mcount\u001b[0m\u001b[1;33m(\u001b[0m\u001b[1;33m)\u001b[0m\u001b[1;33m\u001b[0m\u001b[0m\n\u001b[1;32m---> 13\u001b[1;33m \u001b[1;32mprint\u001b[0m \u001b[0mcounter\u001b[0m\u001b[1;33m.\u001b[0m\u001b[0m__secretCount\u001b[0m\u001b[1;33m\u001b[0m\u001b[0m\n\u001b[0m",
        "\u001b[1;31mAttributeError\u001b[0m: JustCounter instance has no attribute '__secretCount'"
       ]
      },
      {
       "output_type": "stream",
       "stream": "stdout",
       "text": [
        "1\n",
        "2\n"
       ]
      }
     ],
     "prompt_number": 87
    },
    {
     "cell_type": "code",
     "collapsed": false,
     "input": [
      "counter._JustCounter__secretCount"
     ],
     "language": "python",
     "metadata": {},
     "outputs": [
      {
       "metadata": {},
       "output_type": "pyout",
       "prompt_number": 88,
       "text": [
        "2"
       ]
      }
     ],
     "prompt_number": 88
    },
    {
     "cell_type": "code",
     "collapsed": false,
     "input": [
      "class A(object):\n",
      "    def __init__(self):\n",
      "        self.xa =23\n",
      "        print \"A init\"\n",
      "        print self.__class__.__mro__\n",
      "\n",
      "class B(A):\n",
      "    def __init__(self):\n",
      "        self.xb =45\n",
      "        print \"B init\"\n",
      "        print self.__class__.__mro__\n",
      "        super(B, self).__init__()\n",
      "\n",
      "class C(A):\n",
      "    def __init__(self):\n",
      "        self.xc =4\n",
      "        print \"C init\"\n",
      "        print self.__class__.__mro__\n",
      "        super(C, self).__init__()\n",
      "\n",
      "class D(B, C):\n",
      "    def __init__(self):\n",
      "        self.xd =4444\n",
      "        print \"D init\"\n",
      "        print self.__class__.__mro__\n",
      "        super(D, self).__init__()\n",
      "\n",
      "x = D()"
     ],
     "language": "python",
     "metadata": {},
     "outputs": [
      {
       "output_type": "stream",
       "stream": "stdout",
       "text": [
        "D init\n",
        "(<class '__main__.D'>, <class '__main__.B'>, <class '__main__.C'>, <class '__main__.A'>, <type 'object'>)\n",
        "B init\n",
        "(<class '__main__.D'>, <class '__main__.B'>, <class '__main__.C'>, <class '__main__.A'>, <type 'object'>)\n",
        "C init\n",
        "(<class '__main__.D'>, <class '__main__.B'>, <class '__main__.C'>, <class '__main__.A'>, <type 'object'>)\n",
        "A init\n",
        "(<class '__main__.D'>, <class '__main__.B'>, <class '__main__.C'>, <class '__main__.A'>, <type 'object'>)\n"
       ]
      }
     ],
     "prompt_number": 29
    },
    {
     "cell_type": "code",
     "collapsed": false,
     "input": [],
     "language": "python",
     "metadata": {},
     "outputs": []
    },
    {
     "cell_type": "markdown",
     "metadata": {},
     "source": []
    },
    {
     "cell_type": "code",
     "collapsed": false,
     "input": [
      "class Human(object):\n",
      "    pass\n",
      "#Rajesh = Human()\n",
      "#Abhra = Human()\n",
      "\n",
      "#Ria.glasses = 'yes'\n",
      "#Rajesh.glasses = 'no'\n",
      "\n",
      "#Rajesh.glasses"
     ],
     "language": "python",
     "metadata": {},
     "outputs": [],
     "prompt_number": 1
    },
    {
     "cell_type": "code",
     "collapsed": false,
     "input": [
      "ria =Human()"
     ],
     "language": "python",
     "metadata": {},
     "outputs": [],
     "prompt_number": 3
    },
    {
     "cell_type": "code",
     "collapsed": false,
     "input": [
      "ria.glasses ='yes'"
     ],
     "language": "python",
     "metadata": {},
     "outputs": [],
     "prompt_number": 4
    },
    {
     "cell_type": "code",
     "collapsed": false,
     "input": [
      "ria.glasses"
     ],
     "language": "python",
     "metadata": {},
     "outputs": [
      {
       "metadata": {},
       "output_type": "pyout",
       "prompt_number": 5,
       "text": [
        "'yes'"
       ]
      }
     ],
     "prompt_number": 5
    },
    {
     "cell_type": "code",
     "collapsed": false,
     "input": [
      "del ria.glasses"
     ],
     "language": "python",
     "metadata": {},
     "outputs": [],
     "prompt_number": 6
    },
    {
     "cell_type": "code",
     "collapsed": false,
     "input": [
      "ria."
     ],
     "language": "python",
     "metadata": {},
     "outputs": []
    }
   ],
   "metadata": {}
  }
 ]
}